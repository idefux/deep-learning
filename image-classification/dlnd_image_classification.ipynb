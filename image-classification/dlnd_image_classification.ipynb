{
 "cells": [
  {
   "cell_type": "markdown",
   "metadata": {
    "collapsed": true
   },
   "source": [
    "# Image Classification\n",
    "In this project, you'll classify images from the [CIFAR-10 dataset](https://www.cs.toronto.edu/~kriz/cifar.html).  The dataset consists of airplanes, dogs, cats, and other objects. You'll preprocess the images, then train a convolutional neural network on all the samples. The images need to be normalized and the labels need to be one-hot encoded.  You'll get to apply what you learned and build a convolutional, max pooling, dropout, and fully connected layers.  At the end, you'll get to see your neural network's predictions on the sample images.\n",
    "## Get the Data\n",
    "Run the following cell to download the [CIFAR-10 dataset for python](https://www.cs.toronto.edu/~kriz/cifar-10-python.tar.gz)."
   ]
  },
  {
   "cell_type": "code",
   "execution_count": 4,
   "metadata": {},
   "outputs": [
    {
     "name": "stdout",
     "output_type": "stream",
     "text": [
      "All files found!\n"
     ]
    }
   ],
   "source": [
    "\"\"\"\n",
    "DON'T MODIFY ANYTHING IN THIS CELL THAT IS BELOW THIS LINE\n",
    "\"\"\"\n",
    "from urllib.request import urlretrieve\n",
    "from os.path import isfile, isdir\n",
    "from tqdm import tqdm\n",
    "import problem_unittests as tests\n",
    "import tarfile\n",
    "\n",
    "cifar10_dataset_folder_path = 'cifar-10-batches-py'\n",
    "\n",
    "# Use Floyd's cifar-10 dataset if present\n",
    "floyd_cifar10_location = '/input/cifar-10/python.tar.gz'\n",
    "if isfile(floyd_cifar10_location):\n",
    "    tar_gz_path = floyd_cifar10_location\n",
    "else:\n",
    "    tar_gz_path = 'cifar-10-python.tar.gz'\n",
    "\n",
    "class DLProgress(tqdm):\n",
    "    last_block = 0\n",
    "\n",
    "    def hook(self, block_num=1, block_size=1, total_size=None):\n",
    "        self.total = total_size\n",
    "        self.update((block_num - self.last_block) * block_size)\n",
    "        self.last_block = block_num\n",
    "\n",
    "if not isfile(tar_gz_path):\n",
    "    with DLProgress(unit='B', unit_scale=True, miniters=1, desc='CIFAR-10 Dataset') as pbar:\n",
    "        urlretrieve(\n",
    "            'https://www.cs.toronto.edu/~kriz/cifar-10-python.tar.gz',\n",
    "            tar_gz_path,\n",
    "            pbar.hook)\n",
    "\n",
    "if not isdir(cifar10_dataset_folder_path):\n",
    "    with tarfile.open(tar_gz_path) as tar:\n",
    "        tar.extractall()\n",
    "        tar.close()\n",
    "\n",
    "\n",
    "tests.test_folder_path(cifar10_dataset_folder_path)"
   ]
  },
  {
   "cell_type": "markdown",
   "metadata": {},
   "source": [
    "## Explore the Data\n",
    "The dataset is broken into batches to prevent your machine from running out of memory.  The CIFAR-10 dataset consists of 5 batches, named `data_batch_1`, `data_batch_2`, etc.. Each batch contains the labels and images that are one of the following:\n",
    "* airplane\n",
    "* automobile\n",
    "* bird\n",
    "* cat\n",
    "* deer\n",
    "* dog\n",
    "* frog\n",
    "* horse\n",
    "* ship\n",
    "* truck\n",
    "\n",
    "Understanding a dataset is part of making predictions on the data.  Play around with the code cell below by changing the `batch_id` and `sample_id`. The `batch_id` is the id for a batch (1-5). The `sample_id` is the id for a image and label pair in the batch.\n",
    "\n",
    "Ask yourself \"What are all possible labels?\", \"What is the range of values for the image data?\", \"Are the labels in order or random?\".  Answers to questions like these will help you preprocess the data and end up with better predictions."
   ]
  },
  {
   "cell_type": "code",
   "execution_count": 8,
   "metadata": {},
   "outputs": [
    {
     "name": "stdout",
     "output_type": "stream",
     "text": [
      "\n",
      "Stats of batch 1:\n",
      "Samples: 10000\n",
      "Label Counts: {0: 1005, 1: 974, 2: 1032, 3: 1016, 4: 999, 5: 937, 6: 1030, 7: 1001, 8: 1025, 9: 981}\n",
      "First 20 Labels: [6, 9, 9, 4, 1, 1, 2, 7, 8, 3, 4, 7, 7, 2, 9, 9, 9, 3, 2, 6]\n",
      "\n",
      "Example of Image 80:\n",
      "Image - Min Value: 34 Max Value: 219\n",
      "Image - Shape: (32, 32, 3)\n",
      "Label - Label Id: 3 Name: cat\n"
     ]
    },
    {
     "data": {
      "image/png": "[encoded data removed]",
      "text/plain": [
       "<matplotlib.figure.Figure at 0x7fb733dadba8>"
      ]
     },
     "metadata": {
      "image/png": {
       "height": 250,
       "width": 253
      }
     },
     "output_type": "display_data"
    }
   ],
   "source": [
    "%matplotlib inline\n",
    "%config InlineBackend.figure_format = 'retina'\n",
    "\n",
    "import helper\n",
    "import numpy as np\n",
    "\n",
    "# Explore the dataset\n",
    "batch_id = 1\n",
    "sample_id = 80\n",
    "helper.display_stats(cifar10_dataset_folder_path, batch_id, sample_id)"
   ]
  },
  {
   "cell_type": "markdown",
   "metadata": {},
   "source": [
    "## Implement Preprocess Functions\n",
    "### Normalize\n",
    "In the cell below, implement the `normalize` function to take in image data, `x`, and return it as a normalized Numpy array. The values should be in the range of 0 to 1, inclusive.  The return object should be the same shape as `x`."
   ]
  },
  {
   "cell_type": "code",
   "execution_count": 9,
   "metadata": {},
   "outputs": [
    {
     "name": "stdout",
     "output_type": "stream",
     "text": [
      "Tests Passed\n"
     ]
    }
   ],
   "source": [
    "def normalize(x):\n",
    "    \"\"\"\n",
    "    Normalize a list of sample image data in the range of 0 to 1\n",
    "    : x: List of image data.  The image shape is (32, 32, 3)\n",
    "    : return: Numpy array of normalize data\n",
    "    \"\"\"\n",
    "    # TODO: Implement Function\n",
    "    return x / 255\n",
    "\n",
    "\n",
    "\"\"\"\n",
    "DON'T MODIFY ANYTHING IN THIS CELL THAT IS BELOW THIS LINE\n",
    "\"\"\"\n",
    "tests.test_normalize(normalize)"
   ]
  },
  {
   "cell_type": "markdown",
   "metadata": {},
   "source": [
    "### One-hot encode\n",
    "Just like the previous code cell, you'll be implementing a function for preprocessing.  This time, you'll implement the `one_hot_encode` function. The input, `x`, are a list of labels.  Implement the function to return the list of labels as One-Hot encoded Numpy array.  The possible values for labels are 0 to 9. The one-hot encoding function should return the same encoding for each value between each call to `one_hot_encode`.  Make sure to save the map of encodings outside the function.\n",
    "\n",
    "Hint: Don't reinvent the wheel."
   ]
  },
  {
   "cell_type": "code",
   "execution_count": 10,
   "metadata": {},
   "outputs": [
    {
     "name": "stdout",
     "output_type": "stream",
     "text": [
      "Tests Passed\n"
     ]
    }
   ],
   "source": [
    "one_hot_encodings = np.zeros((10, 10))\n",
    "for i in range(10):\n",
    "    one_hot_encodings[i][i] = 1\n",
    "\n",
    "def one_hot_encode(x):\n",
    "    \"\"\"\n",
    "    One hot encode a list of sample labels. Return a one-hot encoded vector for each label.\n",
    "    : x: List of sample Labels\n",
    "    : return: Numpy array of one-hot encoded labels\n",
    "    \"\"\"\n",
    "    # TODO: Implement Function\n",
    "    labels_encoded = np.zeros((len(x), 10))\n",
    "    for i,label in enumerate(x):\n",
    "        labels_encoded[i] = one_hot_encodings[label]\n",
    "    return labels_encoded\n",
    "\n",
    "\n",
    "\"\"\"\n",
    "DON'T MODIFY ANYTHING IN THIS CELL THAT IS BELOW THIS LINE\n",
    "\"\"\"\n",
    "tests.test_one_hot_encode(one_hot_encode)"
   ]
  },
  {
   "cell_type": "markdown",
   "metadata": {},
   "source": [
    "### Randomize Data\n",
    "As you saw from exploring the data above, the order of the samples are randomized.  It doesn't hurt to randomize it again, but you don't need to for this dataset."
   ]
  },
  {
   "cell_type": "markdown",
   "metadata": {},
   "source": [
    "## Preprocess all the data and save it\n",
    "Running the code cell below will preprocess all the CIFAR-10 data and save it to file. The code below also uses 10% of the training data for validation."
   ]
  },
  {
   "cell_type": "code",
   "execution_count": 9,
   "metadata": {},
   "outputs": [
    {
     "ename": "MemoryError",
     "evalue": "",
     "output_type": "error",
     "traceback": [
      "\u001b[0;31m---------------------------------------------------------------------------\u001b[0m",
      "\u001b[0;31mMemoryError\u001b[0m                               Traceback (most recent call last)",
      "\u001b[0;32m<ipython-input-9-2e43b03e04f3>\u001b[0m in \u001b[0;36m<module>\u001b[0;34m()\u001b[0m\n\u001b[1;32m      3\u001b[0m \"\"\"\n\u001b[1;32m      4\u001b[0m \u001b[0;31m# Preprocess Training, Validation, and Testing Data\u001b[0m\u001b[0;34m\u001b[0m\u001b[0;34m\u001b[0m\u001b[0m\n\u001b[0;32m----> 5\u001b[0;31m \u001b[0mhelper\u001b[0m\u001b[0;34m.\u001b[0m\u001b[0mpreprocess_and_save_data\u001b[0m\u001b[0;34m(\u001b[0m\u001b[0mcifar10_dataset_folder_path\u001b[0m\u001b[0;34m,\u001b[0m \u001b[0mnormalize\u001b[0m\u001b[0;34m,\u001b[0m \u001b[0mone_hot_encode\u001b[0m\u001b[0;34m)\u001b[0m\u001b[0;34m\u001b[0m\u001b[0m\n\u001b[0m",
      "\u001b[0;32m/home/ubuntu/deep-learning/image-classification/helper.py\u001b[0m in \u001b[0;36mpreprocess_and_save_data\u001b[0;34m(cifar10_dataset_folder_path, normalize, one_hot_encode)\u001b[0m\n\u001b[1;32m     86\u001b[0m             \u001b[0mfeatures\u001b[0m\u001b[0;34m[\u001b[0m\u001b[0;34m:\u001b[0m\u001b[0;34m-\u001b[0m\u001b[0mvalidation_count\u001b[0m\u001b[0;34m]\u001b[0m\u001b[0;34m,\u001b[0m\u001b[0;34m\u001b[0m\u001b[0m\n\u001b[1;32m     87\u001b[0m             \u001b[0mlabels\u001b[0m\u001b[0;34m[\u001b[0m\u001b[0;34m:\u001b[0m\u001b[0;34m-\u001b[0m\u001b[0mvalidation_count\u001b[0m\u001b[0;34m]\u001b[0m\u001b[0;34m,\u001b[0m\u001b[0;34m\u001b[0m\u001b[0m\n\u001b[0;32m---> 88\u001b[0;31m             'preprocess_batch_' + str(batch_i) + '.p')\n\u001b[0m\u001b[1;32m     89\u001b[0m \u001b[0;34m\u001b[0m\u001b[0m\n\u001b[1;32m     90\u001b[0m         \u001b[0;31m# Use a portion of training batch for validation\u001b[0m\u001b[0;34m\u001b[0m\u001b[0;34m\u001b[0m\u001b[0m\n",
      "\u001b[0;32m/home/ubuntu/deep-learning/image-classification/helper.py\u001b[0m in \u001b[0;36m_preprocess_and_save\u001b[0;34m(normalize, one_hot_encode, features, labels, filename)\u001b[0m\n\u001b[1;32m     65\u001b[0m     \u001b[0mlabels\u001b[0m \u001b[0;34m=\u001b[0m \u001b[0mone_hot_encode\u001b[0m\u001b[0;34m(\u001b[0m\u001b[0mlabels\u001b[0m\u001b[0;34m)\u001b[0m\u001b[0;34m\u001b[0m\u001b[0m\n\u001b[1;32m     66\u001b[0m \u001b[0;34m\u001b[0m\u001b[0m\n\u001b[0;32m---> 67\u001b[0;31m     \u001b[0mpickle\u001b[0m\u001b[0;34m.\u001b[0m\u001b[0mdump\u001b[0m\u001b[0;34m(\u001b[0m\u001b[0;34m(\u001b[0m\u001b[0mfeatures\u001b[0m\u001b[0;34m,\u001b[0m \u001b[0mlabels\u001b[0m\u001b[0;34m)\u001b[0m\u001b[0;34m,\u001b[0m \u001b[0mopen\u001b[0m\u001b[0;34m(\u001b[0m\u001b[0mfilename\u001b[0m\u001b[0;34m,\u001b[0m \u001b[0;34m'wb'\u001b[0m\u001b[0;34m)\u001b[0m\u001b[0;34m)\u001b[0m\u001b[0;34m\u001b[0m\u001b[0m\n\u001b[0m\u001b[1;32m     68\u001b[0m \u001b[0;34m\u001b[0m\u001b[0m\n\u001b[1;32m     69\u001b[0m \u001b[0;34m\u001b[0m\u001b[0m\n",
      "\u001b[0;31mMemoryError\u001b[0m: "
     ]
    }
   ],
   "source": [
    "\"\"\"\n",
    "DON'T MODIFY ANYTHING IN THIS CELL\n",
    "\"\"\"\n",
    "# Preprocess Training, Validation, and Testing Data\n",
    "helper.preprocess_and_save_data(cifar10_dataset_folder_path, normalize, one_hot_encode)"
   ]
  },
  {
   "cell_type": "markdown",
   "metadata": {},
   "source": [
    "# Check Point\n",
    "This is your first checkpoint.  If you ever decide to come back to this notebook or have to restart the notebook, you can start from here.  The preprocessed data has been saved to disk."
   ]
  },
  {
   "cell_type": "code",
   "execution_count": 11,
   "metadata": {
    "collapsed": true
   },
   "outputs": [],
   "source": [
    "\"\"\"\n",
    "DON'T MODIFY ANYTHING IN THIS CELL\n",
    "\"\"\"\n",
    "import pickle\n",
    "import problem_unittests as tests\n",
    "import helper\n",
    "\n",
    "# Load the Preprocessed Validation data\n",
    "valid_features, valid_labels = pickle.load(open('preprocess_validation.p', mode='rb'))"
   ]
  },
  {
   "cell_type": "markdown",
   "metadata": {},
   "source": [
    "## Build the network\n",
    "For the neural network, you'll build each layer into a function.  Most of the code you've seen has been outside of functions. To test your code more thoroughly, we require that you put each layer in a function.  This allows us to give you better feedback and test for simple mistakes using our unittests before you submit your project.\n",
    "\n",
    ">**Note:** If you're finding it hard to dedicate enough time for this course each week, we've provided a small shortcut to this part of the project. In the next couple of problems, you'll have the option to use classes from the [TensorFlow Layers](https://www.tensorflow.org/api_docs/python/tf/layers) or [TensorFlow Layers (contrib)](https://www.tensorflow.org/api_guides/python/contrib.layers) packages to build each layer, except the layers you build in the \"Convolutional and Max Pooling Layer\" section.  TF Layers is similar to Keras's and TFLearn's abstraction to layers, so it's easy to pickup.\n",
    "\n",
    ">However, if you would like to get the most out of this course, try to solve all the problems _without_ using anything from the TF Layers packages. You **can** still use classes from other packages that happen to have the same name as ones you find in TF Layers! For example, instead of using the TF Layers version of the `conv2d` class, [tf.layers.conv2d](https://www.tensorflow.org/api_docs/python/tf/layers/conv2d), you would want to use the TF Neural Network version of `conv2d`, [tf.nn.conv2d](https://www.tensorflow.org/api_docs/python/tf/nn/conv2d). \n",
    "\n",
    "Let's begin!\n",
    "\n",
    "### Input\n",
    "The neural network needs to read the image data, one-hot encoded labels, and dropout keep probability. Implement the following functions\n",
    "* Implement `neural_net_image_input`\n",
    " * Return a [TF Placeholder](https://www.tensorflow.org/api_docs/python/tf/placeholder)\n",
    " * Set the shape using `image_shape` with batch size set to `None`.\n",
    " * Name the TensorFlow placeholder \"x\" using the TensorFlow `name` parameter in the [TF Placeholder](https://www.tensorflow.org/api_docs/python/tf/placeholder).\n",
    "* Implement `neural_net_label_input`\n",
    " * Return a [TF Placeholder](https://www.tensorflow.org/api_docs/python/tf/placeholder)\n",
    " * Set the shape using `n_classes` with batch size set to `None`.\n",
    " * Name the TensorFlow placeholder \"y\" using the TensorFlow `name` parameter in the [TF Placeholder](https://www.tensorflow.org/api_docs/python/tf/placeholder).\n",
    "* Implement `neural_net_keep_prob_input`\n",
    " * Return a [TF Placeholder](https://www.tensorflow.org/api_docs/python/tf/placeholder) for dropout keep probability.\n",
    " * Name the TensorFlow placeholder \"keep_prob\" using the TensorFlow `name` parameter in the [TF Placeholder](https://www.tensorflow.org/api_docs/python/tf/placeholder).\n",
    "\n",
    "These names will be used at the end of the project to load your saved model.\n",
    "\n",
    "Note: `None` for shapes in TensorFlow allow for a dynamic size."
   ]
  },
  {
   "cell_type": "code",
   "execution_count": 12,
   "metadata": {},
   "outputs": [
    {
     "name": "stdout",
     "output_type": "stream",
     "text": [
      "Image Input Tests Passed.\n",
      "Label Input Tests Passed.\n",
      "Keep Prob Tests Passed.\n"
     ]
    }
   ],
   "source": [
    "import tensorflow as tf\n",
    "\n",
    "def neural_net_image_input(image_shape):\n",
    "    \"\"\"\n",
    "    Return a Tensor for a batch of image input\n",
    "    : image_shape: Shape of the images\n",
    "    : return: Tensor for image input.\n",
    "    \"\"\"\n",
    "    # TODO: Implement Function\n",
    "    return tf.placeholder(dtype=tf.float32, shape=(None,) + image_shape, name='x')\n",
    "\n",
    "\n",
    "def neural_net_label_input(n_classes):\n",
    "    \"\"\"\n",
    "    Return a Tensor for a batch of label input\n",
    "    : n_classes: Number of classes\n",
    "    : return: Tensor for label input.\n",
    "    \"\"\"\n",
    "    # TODO: Implement Function\n",
    "    return tf.placeholder(dtype=tf.float32, shape=(None, n_classes), name='y')\n",
    "\n",
    "\n",
    "def neural_net_keep_prob_input():\n",
    "    \"\"\"\n",
    "    Return a Tensor for keep probability\n",
    "    : return: Tensor for keep probability.\n",
    "    \"\"\"\n",
    "    # TODO: Implement Function\n",
    "    return tf.placeholder(dtype=tf.float32, name='keep_prob')\n",
    "\n",
    "\n",
    "\"\"\"\n",
    "DON'T MODIFY ANYTHING IN THIS CELL THAT IS BELOW THIS LINE\n",
    "\"\"\"\n",
    "tf.reset_default_graph()\n",
    "tests.test_nn_image_inputs(neural_net_image_input)\n",
    "tests.test_nn_label_inputs(neural_net_label_input)\n",
    "tests.test_nn_keep_prob_inputs(neural_net_keep_prob_input)"
   ]
  },
  {
   "cell_type": "markdown",
   "metadata": {},
   "source": [
    "### Convolution and Max Pooling Layer\n",
    "Convolution layers have a lot of success with images. For this code cell, you should implement the function `conv2d_maxpool` to apply convolution then max pooling:\n",
    "* Create the weight and bias using `conv_ksize`, `conv_num_outputs` and the shape of `x_tensor`.\n",
    "* Apply a convolution to `x_tensor` using weight and `conv_strides`.\n",
    " * We recommend you use same padding, but you're welcome to use any padding.\n",
    "* Add bias\n",
    "* Add a nonlinear activation to the convolution.\n",
    "* Apply Max Pooling using `pool_ksize` and `pool_strides`.\n",
    " * We recommend you use same padding, but you're welcome to use any padding.\n",
    "\n",
    "**Note:** You **can't** use [TensorFlow Layers](https://www.tensorflow.org/api_docs/python/tf/layers) or [TensorFlow Layers (contrib)](https://www.tensorflow.org/api_guides/python/contrib.layers) for **this** layer, but you can still use TensorFlow's [Neural Network](https://www.tensorflow.org/api_docs/python/tf/nn) package. You may still use the shortcut option for all the **other** layers."
   ]
  },
  {
   "cell_type": "code",
   "execution_count": 13,
   "metadata": {},
   "outputs": [
    {
     "name": "stdout",
     "output_type": "stream",
     "text": [
      "Tests Passed\n"
     ]
    }
   ],
   "source": [
    "def conv2d_maxpool(x_tensor, conv_num_outputs, conv_ksize, conv_strides, pool_ksize, pool_strides):\n",
    "    \"\"\"\n",
    "    Apply convolution then max pooling to x_tensor\n",
    "    :param x_tensor: TensorFlow Tensor\n",
    "    :param conv_num_outputs: Number of outputs for the convolutional layer\n",
    "    :param conv_ksize: kernal size 2-D Tuple for the convolutional layer\n",
    "    :param conv_strides: Stride 2-D Tuple for convolution\n",
    "    :param pool_ksize: kernal size 2-D Tuple for pool\n",
    "    :param pool_strides: Stride 2-D Tuple for pool\n",
    "    : return: A tensor that represents convolution and max pooling of x_tensor\n",
    "    \"\"\"\n",
    "    # TODO: Implement Function\n",
    "\n",
    "    # Create the weight and bias using conv_ksize, conv_num_outputs and the shape of x_tensor\n",
    "    \n",
    "    # input: batch, in_height, in_width, in_channels\n",
    "    # filter: filter_height, filter_width, in_channels, out_channels\n",
    "    # batch, in_height, in_width, in_channels = np.shape(x_tensor)\n",
    "    # in_channels = int(np.shape(x_tensor)[-1])\n",
    "    in_channels = x_tensor.get_shape().as_list()[-1]\n",
    "    filter_conv_heigth, filter_conv_width = conv_ksize\n",
    "    filter_pool_heigth, filter_pool_width = pool_ksize\n",
    "    weights = tf.Variable(tf.truncated_normal([filter_conv_heigth, filter_conv_width, in_channels, conv_num_outputs],\n",
    "                                              stddev=0.1))\n",
    "    # bias = tf.Variable(tf.truncated_normal([conv_num_outputs], stddev=0.1))\n",
    "    bias = tf.Variable(tf.zeros([conv_num_outputs]))\n",
    "    \n",
    "    # Apply a convolution to x_tensor using weight and conv_strides.\n",
    "    # We recommend you use same padding, but you're welcome to use any padding.\n",
    "    conv = tf.nn.conv2d(x_tensor, weights, strides=(1,)+conv_strides+(1,), padding='SAME')\n",
    "    \n",
    "    # Add bias\n",
    "    conv = tf.nn.bias_add(conv, bias)\n",
    "    \n",
    "    # Add a nonlinear activation to the convolution.\n",
    "    conv = tf.nn.relu(conv)\n",
    "    \n",
    "    # Apply Max Pooling using pool_ksize and pool_strides.    \n",
    "    pool = tf.nn.max_pool(conv, (1,)+pool_ksize+(1,), strides=(1,)+pool_strides+(1,), padding='SAME')\n",
    "    \n",
    "    return pool\n",
    "\n",
    "\n",
    "\"\"\"\n",
    "DON'T MODIFY ANYTHING IN THIS CELL THAT IS BELOW THIS LINE\n",
    "\"\"\"\n",
    "tests.test_con_pool(conv2d_maxpool)"
   ]
  },
  {
   "cell_type": "markdown",
   "metadata": {},
   "source": [
    "### Flatten Layer\n",
    "Implement the `flatten` function to change the dimension of `x_tensor` from a 4-D tensor to a 2-D tensor.  The output should be the shape (*Batch Size*, *Flattened Image Size*). Shortcut option: you can use classes from the [TensorFlow Layers](https://www.tensorflow.org/api_docs/python/tf/layers) or [TensorFlow Layers (contrib)](https://www.tensorflow.org/api_guides/python/contrib.layers) packages for this layer. For more of a challenge, only use other TensorFlow packages."
   ]
  },
  {
   "cell_type": "code",
   "execution_count": 14,
   "metadata": {},
   "outputs": [
    {
     "name": "stdout",
     "output_type": "stream",
     "text": [
      "Tests Passed\n"
     ]
    }
   ],
   "source": [
    "def flatten(x_tensor):\n",
    "    \"\"\"\n",
    "    Flatten x_tensor to (Batch Size, Flattened Image Size)\n",
    "    : x_tensor: A tensor of size (Batch Size, ...), where ... are the image dimensions.\n",
    "    : return: A tensor of size (Batch Size, Flattened Image Size).\n",
    "    \"\"\"\n",
    "    # TODO: Implement Function\n",
    "    batch, in_height, in_width, in_channels = x_tensor.get_shape().as_list()\n",
    "    \n",
    "    flattened_size = int(in_height * in_width * in_channels)\n",
    "                \n",
    "    # x_flat = tf.contrib.layers.flatten(x_tensor)\n",
    "    \n",
    "    x_flat = tf.reshape(x_tensor, [-1, flattened_size])\n",
    "    \n",
    "    return x_flat\n",
    "\n",
    "\n",
    "\"\"\"\n",
    "DON'T MODIFY ANYTHING IN THIS CELL THAT IS BELOW THIS LINE\n",
    "\"\"\"\n",
    "tests.test_flatten(flatten)"
   ]
  },
  {
   "cell_type": "markdown",
   "metadata": {},
   "source": [
    "### Fully-Connected Layer\n",
    "Implement the `fully_conn` function to apply a fully connected layer to `x_tensor` with the shape (*Batch Size*, *num_outputs*). Shortcut option: you can use classes from the [TensorFlow Layers](https://www.tensorflow.org/api_docs/python/tf/layers) or [TensorFlow Layers (contrib)](https://www.tensorflow.org/api_guides/python/contrib.layers) packages for this layer. For more of a challenge, only use other TensorFlow packages."
   ]
  },
  {
   "cell_type": "code",
   "execution_count": 15,
   "metadata": {},
   "outputs": [
    {
     "name": "stdout",
     "output_type": "stream",
     "text": [
      "Tests Passed\n"
     ]
    }
   ],
   "source": [
    "def fully_conn(x_tensor, num_outputs):\n",
    "    \"\"\"\n",
    "    Apply a fully connected layer to x_tensor using weight and bias\n",
    "    : x_tensor: A 2-D tensor where the first dimension is batch size.\n",
    "    : num_outputs: The number of output that the new tensor should be.\n",
    "    : return: A 2-D tensor where the second dimension is num_outputs.\n",
    "    \"\"\"\n",
    "    # TODO: Implement Function\n",
    "    batch, in_length = x_tensor.get_shape().as_list()\n",
    "    weights = tf.Variable(tf.truncated_normal([in_length, num_outputs], stddev=0.1))\n",
    "    # bias = tf.Variable(tf.truncated_normal([num_outputs], stddev=0.1))\n",
    "    bias = tf.Variable(tf.zeros([num_outputs]))\n",
    "    \n",
    "    fully_conn = tf.matmul(x_tensor, weights)\n",
    "    fully_conn = tf.add(fully_conn, bias)\n",
    "    fully_conn = tf.nn.relu(fully_conn)\n",
    "    return fully_conn\n",
    "\n",
    "\n",
    "\"\"\"\n",
    "DON'T MODIFY ANYTHING IN THIS CELL THAT IS BELOW THIS LINE\n",
    "\"\"\"\n",
    "tests.test_fully_conn(fully_conn)"
   ]
  },
  {
   "cell_type": "markdown",
   "metadata": {},
   "source": [
    "### Output Layer\n",
    "Implement the `output` function to apply a fully connected layer to `x_tensor` with the shape (*Batch Size*, *num_outputs*). Shortcut option: you can use classes from the [TensorFlow Layers](https://www.tensorflow.org/api_docs/python/tf/layers) or [TensorFlow Layers (contrib)](https://www.tensorflow.org/api_guides/python/contrib.layers) packages for this layer. For more of a challenge, only use other TensorFlow packages.\n",
    "\n",
    "**Note:** Activation, softmax, or cross entropy should **not** be applied to this."
   ]
  },
  {
   "cell_type": "code",
   "execution_count": 16,
   "metadata": {},
   "outputs": [
    {
     "name": "stdout",
     "output_type": "stream",
     "text": [
      "Tests Passed\n"
     ]
    }
   ],
   "source": [
    "def output(x_tensor, num_outputs):\n",
    "    \"\"\"\n",
    "    Apply a output layer to x_tensor using weight and bias\n",
    "    : x_tensor: A 2-D tensor where the first dimension is batch size.\n",
    "    : num_outputs: The number of output that the new tensor should be.\n",
    "    : return: A 2-D tensor where the second dimension is num_outputs.\n",
    "    \"\"\"\n",
    "    # TODO: Implement Function'\n",
    "    batch, in_length = x_tensor.get_shape().as_list()\n",
    "    weights = tf.Variable(tf.truncated_normal([in_length, num_outputs], stddev=0.1))\n",
    "    # bias = tf.Variable(tf.truncated_normal([num_outputs], stddev=0.1))\n",
    "    bias = tf.Variable(tf.zeros([num_outputs]))\n",
    "    \n",
    "    output = tf.matmul(x_tensor, weights)\n",
    "    output = tf.add(output, bias)\n",
    "    \n",
    "    return output\n",
    "\n",
    "\n",
    "\"\"\"\n",
    "DON'T MODIFY ANYTHING IN THIS CELL THAT IS BELOW THIS LINE\n",
    "\"\"\"\n",
    "tests.test_output(output)"
   ]
  },
  {
   "cell_type": "markdown",
   "metadata": {},
   "source": [
    "### Create Convolutional Model\n",
    "Implement the function `conv_net` to create a convolutional neural network model. The function takes in a batch of images, `x`, and outputs logits.  Use the layers you created above to create this model:\n",
    "\n",
    "* Apply 1, 2, or 3 Convolution and Max Pool layers\n",
    "* Apply a Flatten Layer\n",
    "* Apply 1, 2, or 3 Fully Connected Layers\n",
    "* Apply an Output Layer\n",
    "* Return the output\n",
    "* Apply [TensorFlow's Dropout](https://www.tensorflow.org/api_docs/python/tf/nn/dropout) to one or more layers in the model using `keep_prob`. "
   ]
  },
  {
   "cell_type": "code",
   "execution_count": 17,
   "metadata": {},
   "outputs": [
    {
     "name": "stdout",
     "output_type": "stream",
     "text": [
      "Neural Network Built!\n"
     ]
    }
   ],
   "source": [
    "def conv_net(x, keep_prob):\n",
    "    \"\"\"\n",
    "    Create a convolutional neural network model\n",
    "    : x: Placeholder tensor that holds image data.\n",
    "    : keep_prob: Placeholder tensor that hold dropout keep probability.\n",
    "    : return: Tensor that represents logits\n",
    "    \"\"\"\n",
    "    # TODO: Apply 1, 2, or 3 Convolution and Max Pool layers\n",
    "    #    Play around with different number of outputs, kernel size and stride\n",
    "    # Function Definition from Above:\n",
    "    #    conv2d_maxpool(x_tensor, conv_num_outputs, conv_ksize, conv_strides, pool_ksize, pool_strides)\n",
    "    c1 = conv2d_maxpool(x, 16, (2, 2), (1, 1), (2, 2), (2, 2))\n",
    "    c2 = conv2d_maxpool(c1, 64, (2, 2), (1, 1), (2, 2), (2, 2))\n",
    "    # c2_dropout = tf.nn.dropout(c2, keep_prob)\n",
    "    c3 = conv2d_maxpool(c2, 128, (2, 2), (1, 1), (2, 2), (2, 2))\n",
    "    c3_dropout = tf.nn.dropout(c3, keep_prob)\n",
    "\n",
    "    # TODO: Apply a Flatten Layer\n",
    "    # Function Definition from Above:\n",
    "    #   flatten(x_tensor)\n",
    "    f1 = flatten(c3_dropout)\n",
    "\n",
    "    # TODO: Apply 1, 2, or 3 Fully Connected Layers\n",
    "    #    Play around with different number of outputs\n",
    "    # Function Definition from Above:\n",
    "    #   fully_conn(x_tensor, num_outputs)\n",
    "    # fc1 = fully_conn(f1, 32)\n",
    "    fc1 = fully_conn(f1, 64)\n",
    "    # fc2 = fully_conn(fc1, 32)\n",
    "    # fc3 = fully_conn(fc2, 8)\n",
    "    \n",
    "    fc_dropout = tf.nn.dropout(fc1, keep_prob)\n",
    "    \n",
    "    # TODO: Apply an Output Layer\n",
    "    #    Set this to the number of classes\n",
    "    # Function Definition from Above:\n",
    "    #   output(x_tensor, num_outputs)\n",
    "    out = output(fc_dropout, 10)\n",
    "    \n",
    "    # TODO: return output\n",
    "    return out\n",
    "\n",
    "\n",
    "\"\"\"\n",
    "DON'T MODIFY ANYTHING IN THIS CELL THAT IS BELOW THIS LINE\n",
    "\"\"\"\n",
    "\n",
    "##############################\n",
    "## Build the Neural Network ##\n",
    "##############################\n",
    "\n",
    "# Remove previous weights, bias, inputs, etc..\n",
    "tf.reset_default_graph()\n",
    "\n",
    "# Inputs\n",
    "x = neural_net_image_input((32, 32, 3))\n",
    "y = neural_net_label_input(10)\n",
    "keep_prob = neural_net_keep_prob_input()\n",
    "\n",
    "# Model\n",
    "logits = conv_net(x, keep_prob)\n",
    "\n",
    "# Name logits Tensor, so that is can be loaded from disk after training\n",
    "logits = tf.identity(logits, name='logits')\n",
    "\n",
    "# Loss and Optimizer\n",
    "cost = tf.reduce_mean(tf.nn.softmax_cross_entropy_with_logits(logits=logits, labels=y))\n",
    "optimizer = tf.train.AdamOptimizer().minimize(cost)\n",
    "\n",
    "# Accuracy\n",
    "correct_pred = tf.equal(tf.argmax(logits, 1), tf.argmax(y, 1))\n",
    "accuracy = tf.reduce_mean(tf.cast(correct_pred, tf.float32), name='accuracy')\n",
    "\n",
    "tests.test_conv_net(conv_net)"
   ]
  },
  {
   "cell_type": "markdown",
   "metadata": {},
   "source": [
    "## Train the Neural Network\n",
    "### Single Optimization\n",
    "Implement the function `train_neural_network` to do a single optimization.  The optimization should use `optimizer` to optimize in `session` with a `feed_dict` of the following:\n",
    "* `x` for image input\n",
    "* `y` for labels\n",
    "* `keep_prob` for keep probability for dropout\n",
    "\n",
    "This function will be called for each batch, so `tf.global_variables_initializer()` has already been called.\n",
    "\n",
    "Note: Nothing needs to be returned. This function is only optimizing the neural network."
   ]
  },
  {
   "cell_type": "code",
   "execution_count": 18,
   "metadata": {},
   "outputs": [
    {
     "name": "stdout",
     "output_type": "stream",
     "text": [
      "Tests Passed\n"
     ]
    }
   ],
   "source": [
    "def train_neural_network(session, optimizer, keep_probability, feature_batch, label_batch):\n",
    "    \"\"\"\n",
    "    Optimize the session on a batch of images and labels\n",
    "    : session: Current TensorFlow session\n",
    "    : optimizer: TensorFlow optimizer function\n",
    "    : keep_probability: keep probability\n",
    "    : feature_batch: Batch of Numpy image data\n",
    "    : label_batch: Batch of Numpy label data\n",
    "    \"\"\"\n",
    "    # TODO: Implement Function\n",
    "    session.run(optimizer, feed_dict={\n",
    "        x: feature_batch,\n",
    "        y: label_batch,\n",
    "        keep_prob: keep_probability})\n",
    "    \n",
    "\n",
    "\n",
    "\"\"\"\n",
    "DON'T MODIFY ANYTHING IN THIS CELL THAT IS BELOW THIS LINE\n",
    "\"\"\"\n",
    "tests.test_train_nn(train_neural_network)"
   ]
  },
  {
   "cell_type": "markdown",
   "metadata": {},
   "source": [
    "### Show Stats\n",
    "Implement the function `print_stats` to print loss and validation accuracy.  Use the global variables `valid_features` and `valid_labels` to calculate validation accuracy.  Use a keep probability of `1.0` to calculate the loss and validation accuracy."
   ]
  },
  {
   "cell_type": "code",
   "execution_count": 19,
   "metadata": {
    "collapsed": true
   },
   "outputs": [],
   "source": [
    "def print_stats(session, feature_batch, label_batch, cost, accuracy):\n",
    "    \"\"\"\n",
    "    Print information about loss and validation accuracy\n",
    "    : session: Current TensorFlow session\n",
    "    : feature_batch: Batch of Numpy image data\n",
    "    : label_batch: Batch of Numpy label data\n",
    "    : cost: TensorFlow cost function\n",
    "    : accuracy: TensorFlow accuracy function\n",
    "    \"\"\"\n",
    "    # TODO: Implement Function\n",
    "    \"\"\"validation_accuracy = sess.run(accuracy, feed_dict={\n",
    "        features: test_features,\n",
    "        labels: test_labels,\n",
    "        keep_prob: 0.5})\"\"\"\n",
    "    loss = session.run(cost, feed_dict={\n",
    "        x: feature_batch,\n",
    "        y: label_batch,\n",
    "        keep_prob: 1.0\n",
    "    })\n",
    "    validation_accuracy = session.run(accuracy, feed_dict={\n",
    "        x: valid_features,\n",
    "        y: valid_labels,\n",
    "        keep_prob: 1.0\n",
    "    })\n",
    "    print(\"Loss: {}\".format(loss))\n",
    "    print(\"Validation accuracy: {}\".format(validation_accuracy))"
   ]
  },
  {
   "cell_type": "markdown",
   "metadata": {},
   "source": [
    "### Hyperparameters\n",
    "Tune the following parameters:\n",
    "* Set `epochs` to the number of iterations until the network stops learning or start overfitting\n",
    "* Set `batch_size` to the highest number that your machine has memory for.  Most people set them to common sizes of memory:\n",
    " * 64\n",
    " * 128\n",
    " * 256\n",
    " * ...\n",
    "* Set `keep_probability` to the probability of keeping a node using dropout"
   ]
  },
  {
   "cell_type": "code",
   "execution_count": 20,
   "metadata": {
    "collapsed": true
   },
   "outputs": [],
   "source": [
    "# TODO: Tune Parameters\n",
    "epochs = 30\n",
    "batch_size = 128\n",
    "keep_probability = 0.5"
   ]
  },
  {
   "cell_type": "markdown",
   "metadata": {},
   "source": [
    "### Train on a Single CIFAR-10 Batch\n",
    "Instead of training the neural network on all the CIFAR-10 batches of data, let's use a single batch. This should save time while you iterate on the model to get a better accuracy.  Once the final validation accuracy is 50% or greater, run the model on all the data in the next section."
   ]
  },
  {
   "cell_type": "code",
   "execution_count": 21,
   "metadata": {},
   "outputs": [
    {
     "name": "stdout",
     "output_type": "stream",
     "text": [
      "Checking the Training on a Single Batch...\n",
      "Epoch  1, CIFAR-10 Batch 1:  Loss: 2.207045078277588\n",
      "Validation accuracy: 0.2655999958515167\n",
      "Epoch  2, CIFAR-10 Batch 1:  Loss: 2.0502026081085205\n",
      "Validation accuracy: 0.33320000767707825\n",
      "Epoch  3, CIFAR-10 Batch 1:  "
     ]
    },
    {
     "ename": "KeyboardInterrupt",
     "evalue": "",
     "output_type": "error",
     "traceback": [
      "\u001b[0;31m---------------------------------------------------------------------------\u001b[0m",
      "\u001b[0;31mKeyboardInterrupt\u001b[0m                         Traceback (most recent call last)",
      "\u001b[0;32m<ipython-input-21-0ebd1bbc35ad>\u001b[0m in \u001b[0;36m<module>\u001b[0;34m()\u001b[0m\n\u001b[1;32m     13\u001b[0m             \u001b[0mtrain_neural_network\u001b[0m\u001b[0;34m(\u001b[0m\u001b[0msess\u001b[0m\u001b[0;34m,\u001b[0m \u001b[0moptimizer\u001b[0m\u001b[0;34m,\u001b[0m \u001b[0mkeep_probability\u001b[0m\u001b[0;34m,\u001b[0m \u001b[0mbatch_features\u001b[0m\u001b[0;34m,\u001b[0m \u001b[0mbatch_labels\u001b[0m\u001b[0;34m)\u001b[0m\u001b[0;34m\u001b[0m\u001b[0m\n\u001b[1;32m     14\u001b[0m         \u001b[0mprint\u001b[0m\u001b[0;34m(\u001b[0m\u001b[0;34m'Epoch {:>2}, CIFAR-10 Batch {}:  '\u001b[0m\u001b[0;34m.\u001b[0m\u001b[0mformat\u001b[0m\u001b[0;34m(\u001b[0m\u001b[0mepoch\u001b[0m \u001b[0;34m+\u001b[0m \u001b[0;36m1\u001b[0m\u001b[0;34m,\u001b[0m \u001b[0mbatch_i\u001b[0m\u001b[0;34m)\u001b[0m\u001b[0;34m,\u001b[0m \u001b[0mend\u001b[0m\u001b[0;34m=\u001b[0m\u001b[0;34m''\u001b[0m\u001b[0;34m)\u001b[0m\u001b[0;34m\u001b[0m\u001b[0m\n\u001b[0;32m---> 15\u001b[0;31m         \u001b[0mprint_stats\u001b[0m\u001b[0;34m(\u001b[0m\u001b[0msess\u001b[0m\u001b[0;34m,\u001b[0m \u001b[0mbatch_features\u001b[0m\u001b[0;34m,\u001b[0m \u001b[0mbatch_labels\u001b[0m\u001b[0;34m,\u001b[0m \u001b[0mcost\u001b[0m\u001b[0;34m,\u001b[0m \u001b[0maccuracy\u001b[0m\u001b[0;34m)\u001b[0m\u001b[0;34m\u001b[0m\u001b[0m\n\u001b[0m",
      "\u001b[0;32m<ipython-input-19-546eb21d6f6a>\u001b[0m in \u001b[0;36mprint_stats\u001b[0;34m(session, feature_batch, label_batch, cost, accuracy)\u001b[0m\n\u001b[1;32m     21\u001b[0m         \u001b[0mx\u001b[0m\u001b[0;34m:\u001b[0m \u001b[0mvalid_features\u001b[0m\u001b[0;34m,\u001b[0m\u001b[0;34m\u001b[0m\u001b[0m\n\u001b[1;32m     22\u001b[0m         \u001b[0my\u001b[0m\u001b[0;34m:\u001b[0m \u001b[0mvalid_labels\u001b[0m\u001b[0;34m,\u001b[0m\u001b[0;34m\u001b[0m\u001b[0m\n\u001b[0;32m---> 23\u001b[0;31m         \u001b[0mkeep_prob\u001b[0m\u001b[0;34m:\u001b[0m \u001b[0;36m1.0\u001b[0m\u001b[0;34m\u001b[0m\u001b[0m\n\u001b[0m\u001b[1;32m     24\u001b[0m     })\n\u001b[1;32m     25\u001b[0m     \u001b[0mprint\u001b[0m\u001b[0;34m(\u001b[0m\u001b[0;34m\"Loss: {}\"\u001b[0m\u001b[0;34m.\u001b[0m\u001b[0mformat\u001b[0m\u001b[0;34m(\u001b[0m\u001b[0mloss\u001b[0m\u001b[0;34m)\u001b[0m\u001b[0;34m)\u001b[0m\u001b[0;34m\u001b[0m\u001b[0m\n",
      "\u001b[0;32m/home/sfuchs/anaconda3/envs/tflearn/lib/python3.5/site-packages/tensorflow/python/client/session.py\u001b[0m in \u001b[0;36mrun\u001b[0;34m(self, fetches, feed_dict, options, run_metadata)\u001b[0m\n\u001b[1;32m    765\u001b[0m     \u001b[0;32mtry\u001b[0m\u001b[0;34m:\u001b[0m\u001b[0;34m\u001b[0m\u001b[0m\n\u001b[1;32m    766\u001b[0m       result = self._run(None, fetches, feed_dict, options_ptr,\n\u001b[0;32m--> 767\u001b[0;31m                          run_metadata_ptr)\n\u001b[0m\u001b[1;32m    768\u001b[0m       \u001b[0;32mif\u001b[0m \u001b[0mrun_metadata\u001b[0m\u001b[0;34m:\u001b[0m\u001b[0;34m\u001b[0m\u001b[0m\n\u001b[1;32m    769\u001b[0m         \u001b[0mproto_data\u001b[0m \u001b[0;34m=\u001b[0m \u001b[0mtf_session\u001b[0m\u001b[0;34m.\u001b[0m\u001b[0mTF_GetBuffer\u001b[0m\u001b[0;34m(\u001b[0m\u001b[0mrun_metadata_ptr\u001b[0m\u001b[0;34m)\u001b[0m\u001b[0;34m\u001b[0m\u001b[0m\n",
      "\u001b[0;32m/home/sfuchs/anaconda3/envs/tflearn/lib/python3.5/site-packages/tensorflow/python/client/session.py\u001b[0m in \u001b[0;36m_run\u001b[0;34m(self, handle, fetches, feed_dict, options, run_metadata)\u001b[0m\n\u001b[1;32m    963\u001b[0m     \u001b[0;32mif\u001b[0m \u001b[0mfinal_fetches\u001b[0m \u001b[0;32mor\u001b[0m \u001b[0mfinal_targets\u001b[0m\u001b[0;34m:\u001b[0m\u001b[0;34m\u001b[0m\u001b[0m\n\u001b[1;32m    964\u001b[0m       results = self._do_run(handle, final_targets, final_fetches,\n\u001b[0;32m--> 965\u001b[0;31m                              feed_dict_string, options, run_metadata)\n\u001b[0m\u001b[1;32m    966\u001b[0m     \u001b[0;32melse\u001b[0m\u001b[0;34m:\u001b[0m\u001b[0;34m\u001b[0m\u001b[0m\n\u001b[1;32m    967\u001b[0m       \u001b[0mresults\u001b[0m \u001b[0;34m=\u001b[0m \u001b[0;34m[\u001b[0m\u001b[0;34m]\u001b[0m\u001b[0;34m\u001b[0m\u001b[0m\n",
      "\u001b[0;32m/home/sfuchs/anaconda3/envs/tflearn/lib/python3.5/site-packages/tensorflow/python/client/session.py\u001b[0m in \u001b[0;36m_do_run\u001b[0;34m(self, handle, target_list, fetch_list, feed_dict, options, run_metadata)\u001b[0m\n\u001b[1;32m   1013\u001b[0m     \u001b[0;32mif\u001b[0m \u001b[0mhandle\u001b[0m \u001b[0;32mis\u001b[0m \u001b[0;32mNone\u001b[0m\u001b[0;34m:\u001b[0m\u001b[0;34m\u001b[0m\u001b[0m\n\u001b[1;32m   1014\u001b[0m       return self._do_call(_run_fn, self._session, feed_dict, fetch_list,\n\u001b[0;32m-> 1015\u001b[0;31m                            target_list, options, run_metadata)\n\u001b[0m\u001b[1;32m   1016\u001b[0m     \u001b[0;32melse\u001b[0m\u001b[0;34m:\u001b[0m\u001b[0;34m\u001b[0m\u001b[0m\n\u001b[1;32m   1017\u001b[0m       return self._do_call(_prun_fn, self._session, handle, feed_dict,\n",
      "\u001b[0;32m/home/sfuchs/anaconda3/envs/tflearn/lib/python3.5/site-packages/tensorflow/python/client/session.py\u001b[0m in \u001b[0;36m_do_call\u001b[0;34m(self, fn, *args)\u001b[0m\n\u001b[1;32m   1020\u001b[0m   \u001b[0;32mdef\u001b[0m \u001b[0m_do_call\u001b[0m\u001b[0;34m(\u001b[0m\u001b[0mself\u001b[0m\u001b[0;34m,\u001b[0m \u001b[0mfn\u001b[0m\u001b[0;34m,\u001b[0m \u001b[0;34m*\u001b[0m\u001b[0margs\u001b[0m\u001b[0;34m)\u001b[0m\u001b[0;34m:\u001b[0m\u001b[0;34m\u001b[0m\u001b[0m\n\u001b[1;32m   1021\u001b[0m     \u001b[0;32mtry\u001b[0m\u001b[0;34m:\u001b[0m\u001b[0;34m\u001b[0m\u001b[0m\n\u001b[0;32m-> 1022\u001b[0;31m       \u001b[0;32mreturn\u001b[0m \u001b[0mfn\u001b[0m\u001b[0;34m(\u001b[0m\u001b[0;34m*\u001b[0m\u001b[0margs\u001b[0m\u001b[0;34m)\u001b[0m\u001b[0;34m\u001b[0m\u001b[0m\n\u001b[0m\u001b[1;32m   1023\u001b[0m     \u001b[0;32mexcept\u001b[0m \u001b[0merrors\u001b[0m\u001b[0;34m.\u001b[0m\u001b[0mOpError\u001b[0m \u001b[0;32mas\u001b[0m \u001b[0me\u001b[0m\u001b[0;34m:\u001b[0m\u001b[0;34m\u001b[0m\u001b[0m\n\u001b[1;32m   1024\u001b[0m       \u001b[0mmessage\u001b[0m \u001b[0;34m=\u001b[0m \u001b[0mcompat\u001b[0m\u001b[0;34m.\u001b[0m\u001b[0mas_text\u001b[0m\u001b[0;34m(\u001b[0m\u001b[0me\u001b[0m\u001b[0;34m.\u001b[0m\u001b[0mmessage\u001b[0m\u001b[0;34m)\u001b[0m\u001b[0;34m\u001b[0m\u001b[0m\n",
      "\u001b[0;32m/home/sfuchs/anaconda3/envs/tflearn/lib/python3.5/site-packages/tensorflow/python/client/session.py\u001b[0m in \u001b[0;36m_run_fn\u001b[0;34m(session, feed_dict, fetch_list, target_list, options, run_metadata)\u001b[0m\n\u001b[1;32m   1002\u001b[0m         return tf_session.TF_Run(session, options,\n\u001b[1;32m   1003\u001b[0m                                  \u001b[0mfeed_dict\u001b[0m\u001b[0;34m,\u001b[0m \u001b[0mfetch_list\u001b[0m\u001b[0;34m,\u001b[0m \u001b[0mtarget_list\u001b[0m\u001b[0;34m,\u001b[0m\u001b[0;34m\u001b[0m\u001b[0m\n\u001b[0;32m-> 1004\u001b[0;31m                                  status, run_metadata)\n\u001b[0m\u001b[1;32m   1005\u001b[0m \u001b[0;34m\u001b[0m\u001b[0m\n\u001b[1;32m   1006\u001b[0m     \u001b[0;32mdef\u001b[0m \u001b[0m_prun_fn\u001b[0m\u001b[0;34m(\u001b[0m\u001b[0msession\u001b[0m\u001b[0;34m,\u001b[0m \u001b[0mhandle\u001b[0m\u001b[0;34m,\u001b[0m \u001b[0mfeed_dict\u001b[0m\u001b[0;34m,\u001b[0m \u001b[0mfetch_list\u001b[0m\u001b[0;34m)\u001b[0m\u001b[0;34m:\u001b[0m\u001b[0;34m\u001b[0m\u001b[0m\n",
      "\u001b[0;31mKeyboardInterrupt\u001b[0m: "
     ]
    }
   ],
   "source": [
    "\"\"\"\n",
    "DON'T MODIFY ANYTHING IN THIS CELL\n",
    "\"\"\"\n",
    "print('Checking the Training on a Single Batch...')\n",
    "with tf.Session() as sess:\n",
    "    # Initializing the variables\n",
    "    sess.run(tf.global_variables_initializer())\n",
    "    \n",
    "    # Training cycle\n",
    "    for epoch in range(epochs):\n",
    "        batch_i = 1\n",
    "        for batch_features, batch_labels in helper.load_preprocess_training_batch(batch_i, batch_size):\n",
    "            train_neural_network(sess, optimizer, keep_probability, batch_features, batch_labels)\n",
    "        print('Epoch {:>2}, CIFAR-10 Batch {}:  '.format(epoch + 1, batch_i), end='')\n",
    "        print_stats(sess, batch_features, batch_labels, cost, accuracy)"
   ]
  },
  {
   "cell_type": "markdown",
   "metadata": {},
   "source": [
    "### Fully Train the Model\n",
    "Now that you got a good accuracy with a single CIFAR-10 batch, try it with all five batches."
   ]
  },
  {
   "cell_type": "code",
   "execution_count": 142,
   "metadata": {},
   "outputs": [
    {
     "name": "stdout",
     "output_type": "stream",
     "text": [
      "Training...\n",
      "Epoch  1, CIFAR-10 Batch 1:  Loss: 2.1572110652923584\n",
      "Validation accuracy: 0.26420000195503235\n",
      "Epoch  1, CIFAR-10 Batch 2:  Loss: 1.8594337701797485\n",
      "Validation accuracy: 0.37279999256134033\n",
      "Epoch  1, CIFAR-10 Batch 3:  Loss: 1.6397106647491455\n",
      "Validation accuracy: 0.3885999917984009\n",
      "Epoch  1, CIFAR-10 Batch 4:  Loss: 1.611055612564087\n",
      "Validation accuracy: 0.42559999227523804\n",
      "Epoch  1, CIFAR-10 Batch 5:  Loss: 1.6011308431625366\n",
      "Validation accuracy: 0.428600013256073\n",
      "Epoch  2, CIFAR-10 Batch 1:  Loss: 1.7733938694000244\n",
      "Validation accuracy: 0.4578000009059906\n",
      "Epoch  2, CIFAR-10 Batch 2:  Loss: 1.4573438167572021\n",
      "Validation accuracy: 0.4733999967575073\n",
      "Epoch  2, CIFAR-10 Batch 3:  Loss: 1.277054786682129\n",
      "Validation accuracy: 0.4805999994277954\n",
      "Epoch  2, CIFAR-10 Batch 4:  Loss: 1.411681056022644\n",
      "Validation accuracy: 0.4878000020980835\n",
      "Epoch  2, CIFAR-10 Batch 5:  Loss: 1.366987943649292\n",
      "Validation accuracy: 0.49140000343322754\n",
      "Epoch  3, CIFAR-10 Batch 1:  Loss: 1.6329927444458008\n",
      "Validation accuracy: 0.5228000283241272\n",
      "Epoch  3, CIFAR-10 Batch 2:  Loss: 1.3896592855453491\n",
      "Validation accuracy: 0.5235999822616577\n",
      "Epoch  3, CIFAR-10 Batch 3:  Loss: 1.1080520153045654\n",
      "Validation accuracy: 0.5174000263214111\n",
      "Epoch  3, CIFAR-10 Batch 4:  Loss: 1.2870076894760132\n",
      "Validation accuracy: 0.5360000133514404\n",
      "Epoch  3, CIFAR-10 Batch 5:  Loss: 1.2642645835876465\n",
      "Validation accuracy: 0.5299999713897705\n",
      "Epoch  4, CIFAR-10 Batch 1:  Loss: 1.429168939590454\n",
      "Validation accuracy: 0.5501999855041504\n",
      "Epoch  4, CIFAR-10 Batch 2:  Loss: 1.2863671779632568\n",
      "Validation accuracy: 0.5541999936103821\n",
      "Epoch  4, CIFAR-10 Batch 3:  Loss: 1.0545060634613037\n",
      "Validation accuracy: 0.5422000288963318\n",
      "Epoch  4, CIFAR-10 Batch 4:  Loss: 1.1751108169555664\n",
      "Validation accuracy: 0.5619999766349792\n",
      "Epoch  4, CIFAR-10 Batch 5:  Loss: 1.2102851867675781\n",
      "Validation accuracy: 0.5533999800682068\n",
      "Epoch  5, CIFAR-10 Batch 1:  Loss: 1.361655831336975\n",
      "Validation accuracy: 0.573199987411499\n",
      "Epoch  5, CIFAR-10 Batch 2:  Loss: 1.2875334024429321\n",
      "Validation accuracy: 0.5655999779701233\n",
      "Epoch  5, CIFAR-10 Batch 3:  Loss: 1.0139524936676025\n",
      "Validation accuracy: 0.5699999928474426\n",
      "Epoch  5, CIFAR-10 Batch 4:  Loss: 1.1000940799713135\n",
      "Validation accuracy: 0.5777999758720398\n",
      "Epoch  5, CIFAR-10 Batch 5:  Loss: 1.1544890403747559\n",
      "Validation accuracy: 0.5821999907493591\n",
      "Epoch  6, CIFAR-10 Batch 1:  Loss: 1.288916826248169\n",
      "Validation accuracy: 0.5979999899864197\n",
      "Epoch  6, CIFAR-10 Batch 2:  Loss: 1.1637086868286133\n",
      "Validation accuracy: 0.5952000021934509\n",
      "Epoch  6, CIFAR-10 Batch 3:  Loss: 0.9437268376350403\n",
      "Validation accuracy: 0.592199981212616\n",
      "Epoch  6, CIFAR-10 Batch 4:  Loss: 1.0657769441604614\n",
      "Validation accuracy: 0.5971999764442444\n",
      "Epoch  6, CIFAR-10 Batch 5:  Loss: 1.061227560043335\n",
      "Validation accuracy: 0.5907999873161316\n",
      "Epoch  7, CIFAR-10 Batch 1:  Loss: 1.2227327823638916\n",
      "Validation accuracy: 0.614799976348877\n",
      "Epoch  7, CIFAR-10 Batch 2:  Loss: 1.076190710067749\n",
      "Validation accuracy: 0.59579998254776\n",
      "Epoch  7, CIFAR-10 Batch 3:  Loss: 0.8750157356262207\n",
      "Validation accuracy: 0.6061999797821045\n",
      "Epoch  7, CIFAR-10 Batch 4:  Loss: 0.958700954914093\n",
      "Validation accuracy: 0.6190000176429749\n",
      "Epoch  7, CIFAR-10 Batch 5:  Loss: 0.9776920080184937\n",
      "Validation accuracy: 0.6068000197410583\n",
      "Epoch  8, CIFAR-10 Batch 1:  Loss: 1.1710611581802368\n",
      "Validation accuracy: 0.621399998664856\n",
      "Epoch  8, CIFAR-10 Batch 2:  Loss: 1.0312057733535767\n",
      "Validation accuracy: 0.6335999965667725\n",
      "Epoch  8, CIFAR-10 Batch 3:  Loss: 0.8921758532524109\n",
      "Validation accuracy: 0.6136000156402588\n",
      "Epoch  8, CIFAR-10 Batch 4:  Loss: 0.9151840209960938\n",
      "Validation accuracy: 0.621999979019165\n",
      "Epoch  8, CIFAR-10 Batch 5:  Loss: 0.9960724115371704\n",
      "Validation accuracy: 0.6269999742507935\n",
      "Epoch  9, CIFAR-10 Batch 1:  Loss: 1.0617210865020752\n",
      "Validation accuracy: 0.6384000182151794\n",
      "Epoch  9, CIFAR-10 Batch 2:  Loss: 0.9402742385864258\n",
      "Validation accuracy: 0.6448000073432922\n",
      "Epoch  9, CIFAR-10 Batch 3:  Loss: 0.7950917482376099\n",
      "Validation accuracy: 0.6340000033378601\n",
      "Epoch  9, CIFAR-10 Batch 4:  Loss: 0.8469129800796509\n",
      "Validation accuracy: 0.6448000073432922\n",
      "Epoch  9, CIFAR-10 Batch 5:  Loss: 0.9258993268013\n",
      "Validation accuracy: 0.6456000208854675\n",
      "Epoch 10, CIFAR-10 Batch 1:  Loss: 1.0292270183563232\n",
      "Validation accuracy: 0.6499999761581421\n",
      "Epoch 10, CIFAR-10 Batch 2:  Loss: 0.9225527048110962\n",
      "Validation accuracy: 0.6549999713897705\n",
      "Epoch 10, CIFAR-10 Batch 3:  Loss: 0.7505356073379517\n",
      "Validation accuracy: 0.647599995136261\n",
      "Epoch 10, CIFAR-10 Batch 4:  Loss: 0.8252485394477844\n",
      "Validation accuracy: 0.6556000113487244\n",
      "Epoch 10, CIFAR-10 Batch 5:  Loss: 0.8319319486618042\n",
      "Validation accuracy: 0.6496000289916992\n",
      "Epoch 11, CIFAR-10 Batch 1:  Loss: 1.0044742822647095\n",
      "Validation accuracy: 0.6489999890327454\n",
      "Epoch 11, CIFAR-10 Batch 2:  Loss: 0.8614352941513062\n",
      "Validation accuracy: 0.6660000085830688\n",
      "Epoch 11, CIFAR-10 Batch 3:  Loss: 0.7331467866897583\n",
      "Validation accuracy: 0.6431999802589417\n",
      "Epoch 11, CIFAR-10 Batch 4:  Loss: 0.7885807752609253\n",
      "Validation accuracy: 0.6553999781608582\n",
      "Epoch 11, CIFAR-10 Batch 5:  Loss: 0.808200478553772\n",
      "Validation accuracy: 0.6678000092506409\n",
      "Epoch 12, CIFAR-10 Batch 1:  Loss: 0.9010494351387024\n",
      "Validation accuracy: 0.6606000065803528\n",
      "Epoch 12, CIFAR-10 Batch 2:  Loss: 0.9022499322891235\n",
      "Validation accuracy: 0.6614000201225281\n",
      "Epoch 12, CIFAR-10 Batch 3:  Loss: 0.7060124278068542\n",
      "Validation accuracy: 0.6592000126838684\n",
      "Epoch 12, CIFAR-10 Batch 4:  Loss: 0.7929450273513794\n",
      "Validation accuracy: 0.6672000288963318\n",
      "Epoch 12, CIFAR-10 Batch 5:  Loss: 0.7557138204574585\n",
      "Validation accuracy: 0.6579999923706055\n",
      "Epoch 13, CIFAR-10 Batch 1:  Loss: 0.9165298342704773\n",
      "Validation accuracy: 0.6611999869346619\n",
      "Epoch 13, CIFAR-10 Batch 2:  Loss: 0.7869669198989868\n",
      "Validation accuracy: 0.6794000267982483\n",
      "Epoch 13, CIFAR-10 Batch 3:  Loss: 0.6589080691337585\n",
      "Validation accuracy: 0.6733999848365784\n",
      "Epoch 13, CIFAR-10 Batch 4:  Loss: 0.6960389018058777\n",
      "Validation accuracy: 0.6679999828338623\n",
      "Epoch 13, CIFAR-10 Batch 5:  Loss: 0.7322538495063782\n",
      "Validation accuracy: 0.6765999794006348\n",
      "Epoch 14, CIFAR-10 Batch 1:  Loss: 0.8580557703971863\n",
      "Validation accuracy: 0.673799991607666\n",
      "Epoch 14, CIFAR-10 Batch 2:  Loss: 0.7107469439506531\n",
      "Validation accuracy: 0.6859999895095825\n",
      "Epoch 14, CIFAR-10 Batch 3:  Loss: 0.6102541089057922\n",
      "Validation accuracy: 0.6850000023841858\n",
      "Epoch 14, CIFAR-10 Batch 4:  Loss: 0.637952983379364\n",
      "Validation accuracy: 0.6794000267982483\n",
      "Epoch 14, CIFAR-10 Batch 5:  Loss: 0.7402504682540894\n",
      "Validation accuracy: 0.6769999861717224\n",
      "Epoch 15, CIFAR-10 Batch 1:  Loss: 0.8028268814086914\n",
      "Validation accuracy: 0.6850000023841858\n",
      "Epoch 15, CIFAR-10 Batch 2:  Loss: 0.7043136358261108\n",
      "Validation accuracy: 0.7009999752044678\n",
      "Epoch 15, CIFAR-10 Batch 3:  Loss: 0.6092528104782104\n",
      "Validation accuracy: 0.6787999868392944\n",
      "Epoch 15, CIFAR-10 Batch 4:  Loss: 0.6130448579788208\n",
      "Validation accuracy: 0.6818000078201294\n",
      "Epoch 15, CIFAR-10 Batch 5:  Loss: 0.6890078783035278\n",
      "Validation accuracy: 0.6844000220298767\n",
      "Epoch 16, CIFAR-10 Batch 1:  Loss: 0.8104912638664246\n",
      "Validation accuracy: 0.682200014591217\n",
      "Epoch 16, CIFAR-10 Batch 2:  Loss: 0.6653178334236145\n",
      "Validation accuracy: 0.7008000016212463\n",
      "Epoch 16, CIFAR-10 Batch 3:  Loss: 0.575324296951294\n",
      "Validation accuracy: 0.692799985408783\n",
      "Epoch 16, CIFAR-10 Batch 4:  Loss: 0.619168221950531\n",
      "Validation accuracy: 0.6890000104904175\n",
      "Epoch 16, CIFAR-10 Batch 5:  Loss: 0.67414391040802\n",
      "Validation accuracy: 0.6868000030517578\n",
      "Epoch 17, CIFAR-10 Batch 1:  Loss: 0.767149031162262\n",
      "Validation accuracy: 0.694599986076355\n",
      "Epoch 17, CIFAR-10 Batch 2:  Loss: 0.6612000465393066\n",
      "Validation accuracy: 0.6941999793052673\n",
      "Epoch 17, CIFAR-10 Batch 3:  Loss: 0.5110206604003906\n",
      "Validation accuracy: 0.7003999948501587\n",
      "Epoch 17, CIFAR-10 Batch 4:  Loss: 0.6010472774505615\n",
      "Validation accuracy: 0.6891999840736389\n",
      "Epoch 17, CIFAR-10 Batch 5:  Loss: 0.6057917475700378\n",
      "Validation accuracy: 0.6940000057220459\n",
      "Epoch 18, CIFAR-10 Batch 1:  Loss: 0.7036612629890442\n",
      "Validation accuracy: 0.7039999961853027\n",
      "Epoch 18, CIFAR-10 Batch 2:  Loss: 0.5953484177589417\n",
      "Validation accuracy: 0.70660001039505\n",
      "Epoch 18, CIFAR-10 Batch 3:  Loss: 0.48948296904563904\n",
      "Validation accuracy: 0.7074000239372253\n"
     ]
    },
    {
     "name": "stdout",
     "output_type": "stream",
     "text": [
      "Epoch 18, CIFAR-10 Batch 4:  Loss: 0.5917966365814209\n",
      "Validation accuracy: 0.7027999758720398\n",
      "Epoch 18, CIFAR-10 Batch 5:  Loss: 0.6120446920394897\n",
      "Validation accuracy: 0.7031999826431274\n",
      "Epoch 19, CIFAR-10 Batch 1:  Loss: 0.7347742319107056\n",
      "Validation accuracy: 0.7008000016212463\n",
      "Epoch 19, CIFAR-10 Batch 2:  Loss: 0.5867869257926941\n",
      "Validation accuracy: 0.7062000036239624\n",
      "Epoch 19, CIFAR-10 Batch 3:  Loss: 0.47547635436058044\n",
      "Validation accuracy: 0.7095999717712402\n",
      "Epoch 19, CIFAR-10 Batch 4:  Loss: 0.5303494334220886\n",
      "Validation accuracy: 0.7098000049591064\n",
      "Epoch 19, CIFAR-10 Batch 5:  Loss: 0.5664836764335632\n",
      "Validation accuracy: 0.6958000063896179\n",
      "Epoch 20, CIFAR-10 Batch 1:  Loss: 0.643973708152771\n",
      "Validation accuracy: 0.7135999798774719\n",
      "Epoch 20, CIFAR-10 Batch 2:  Loss: 0.6049972772598267\n",
      "Validation accuracy: 0.7124000191688538\n",
      "Epoch 20, CIFAR-10 Batch 3:  Loss: 0.4668188989162445\n",
      "Validation accuracy: 0.7080000042915344\n",
      "Epoch 20, CIFAR-10 Batch 4:  Loss: 0.5741302371025085\n",
      "Validation accuracy: 0.7070000171661377\n",
      "Epoch 20, CIFAR-10 Batch 5:  Loss: 0.5576980113983154\n",
      "Validation accuracy: 0.7166000008583069\n",
      "Epoch 21, CIFAR-10 Batch 1:  Loss: 0.6663479804992676\n",
      "Validation accuracy: 0.7170000076293945\n",
      "Epoch 21, CIFAR-10 Batch 2:  Loss: 0.5371031761169434\n",
      "Validation accuracy: 0.7142000198364258\n",
      "Epoch 21, CIFAR-10 Batch 3:  Loss: 0.4524514079093933\n",
      "Validation accuracy: 0.7167999744415283\n",
      "Epoch 21, CIFAR-10 Batch 4:  Loss: 0.48652172088623047\n",
      "Validation accuracy: 0.7143999934196472\n",
      "Epoch 21, CIFAR-10 Batch 5:  Loss: 0.5317401885986328\n",
      "Validation accuracy: 0.7129999995231628\n",
      "Epoch 22, CIFAR-10 Batch 1:  Loss: 0.6334792375564575\n",
      "Validation accuracy: 0.7098000049591064\n",
      "Epoch 22, CIFAR-10 Batch 2:  Loss: 0.5074049234390259\n",
      "Validation accuracy: 0.7167999744415283\n",
      "Epoch 22, CIFAR-10 Batch 3:  Loss: 0.4084867835044861\n",
      "Validation accuracy: 0.7192000150680542\n",
      "Epoch 22, CIFAR-10 Batch 4:  Loss: 0.5106658935546875\n",
      "Validation accuracy: 0.7157999873161316\n",
      "Epoch 22, CIFAR-10 Batch 5:  Loss: 0.532921552658081\n",
      "Validation accuracy: 0.7092000246047974\n",
      "Epoch 23, CIFAR-10 Batch 1:  Loss: 0.6108993291854858\n",
      "Validation accuracy: 0.7142000198364258\n",
      "Epoch 23, CIFAR-10 Batch 2:  Loss: 0.4809783101081848\n",
      "Validation accuracy: 0.722599983215332\n",
      "Epoch 23, CIFAR-10 Batch 3:  Loss: 0.39403489232063293\n",
      "Validation accuracy: 0.7235999703407288\n",
      "Epoch 23, CIFAR-10 Batch 4:  Loss: 0.47172269225120544\n",
      "Validation accuracy: 0.7233999967575073\n",
      "Epoch 23, CIFAR-10 Batch 5:  Loss: 0.4857912063598633\n",
      "Validation accuracy: 0.7206000089645386\n",
      "Epoch 24, CIFAR-10 Batch 1:  Loss: 0.6311783194541931\n",
      "Validation accuracy: 0.7215999960899353\n",
      "Epoch 24, CIFAR-10 Batch 2:  Loss: 0.4820522367954254\n",
      "Validation accuracy: 0.7125999927520752\n",
      "Epoch 24, CIFAR-10 Batch 3:  Loss: 0.3969237506389618\n",
      "Validation accuracy: 0.7214000225067139\n",
      "Epoch 24, CIFAR-10 Batch 4:  Loss: 0.4746890068054199\n",
      "Validation accuracy: 0.7143999934196472\n",
      "Epoch 24, CIFAR-10 Batch 5:  Loss: 0.4939454197883606\n",
      "Validation accuracy: 0.7251999974250793\n",
      "Epoch 25, CIFAR-10 Batch 1:  Loss: 0.5883407592773438\n",
      "Validation accuracy: 0.7170000076293945\n",
      "Epoch 25, CIFAR-10 Batch 2:  Loss: 0.4672418534755707\n",
      "Validation accuracy: 0.7239999771118164\n",
      "Epoch 25, CIFAR-10 Batch 3:  Loss: 0.39010754227638245\n",
      "Validation accuracy: 0.7202000021934509\n",
      "Epoch 25, CIFAR-10 Batch 4:  Loss: 0.4546968340873718\n",
      "Validation accuracy: 0.7251999974250793\n",
      "Epoch 25, CIFAR-10 Batch 5:  Loss: 0.484647274017334\n",
      "Validation accuracy: 0.7218000292778015\n",
      "Epoch 26, CIFAR-10 Batch 1:  Loss: 0.591651976108551\n",
      "Validation accuracy: 0.7305999994277954\n",
      "Epoch 26, CIFAR-10 Batch 2:  Loss: 0.458416610956192\n",
      "Validation accuracy: 0.7265999913215637\n",
      "Epoch 26, CIFAR-10 Batch 3:  Loss: 0.4141206741333008\n",
      "Validation accuracy: 0.723800003528595\n",
      "Epoch 26, CIFAR-10 Batch 4:  Loss: 0.45846444368362427\n",
      "Validation accuracy: 0.7203999757766724\n",
      "Epoch 26, CIFAR-10 Batch 5:  Loss: 0.47768110036849976\n",
      "Validation accuracy: 0.7268000245094299\n",
      "Epoch 27, CIFAR-10 Batch 1:  Loss: 0.627341628074646\n",
      "Validation accuracy: 0.7228000164031982\n",
      "Epoch 27, CIFAR-10 Batch 2:  Loss: 0.43915319442749023\n",
      "Validation accuracy: 0.7293999791145325\n",
      "Epoch 27, CIFAR-10 Batch 3:  Loss: 0.3387696146965027\n",
      "Validation accuracy: 0.727400004863739\n",
      "Epoch 27, CIFAR-10 Batch 4:  Loss: 0.52604740858078\n",
      "Validation accuracy: 0.7088000178337097\n",
      "Epoch 27, CIFAR-10 Batch 5:  Loss: 0.4305243492126465\n",
      "Validation accuracy: 0.7279999852180481\n",
      "Epoch 28, CIFAR-10 Batch 1:  Loss: 0.5480358004570007\n",
      "Validation accuracy: 0.7300000190734863\n",
      "Epoch 28, CIFAR-10 Batch 2:  Loss: 0.4594303071498871\n",
      "Validation accuracy: 0.7391999959945679\n",
      "Epoch 28, CIFAR-10 Batch 3:  Loss: 0.39141765236854553\n",
      "Validation accuracy: 0.7297999858856201\n",
      "Epoch 28, CIFAR-10 Batch 4:  Loss: 0.44814175367355347\n",
      "Validation accuracy: 0.7311999797821045\n",
      "Epoch 28, CIFAR-10 Batch 5:  Loss: 0.4357122480869293\n",
      "Validation accuracy: 0.7300000190734863\n",
      "Epoch 29, CIFAR-10 Batch 1:  Loss: 0.5743271112442017\n",
      "Validation accuracy: 0.7265999913215637\n",
      "Epoch 29, CIFAR-10 Batch 2:  Loss: 0.4744265675544739\n",
      "Validation accuracy: 0.7382000088691711\n",
      "Epoch 29, CIFAR-10 Batch 3:  Loss: 0.3540321886539459\n",
      "Validation accuracy: 0.7310000061988831\n",
      "Epoch 29, CIFAR-10 Batch 4:  Loss: 0.47098293900489807\n",
      "Validation accuracy: 0.7239999771118164\n",
      "Epoch 29, CIFAR-10 Batch 5:  Loss: 0.44348782300949097\n",
      "Validation accuracy: 0.7251999974250793\n",
      "Epoch 30, CIFAR-10 Batch 1:  Loss: 0.5347866415977478\n",
      "Validation accuracy: 0.7394000291824341\n",
      "Epoch 30, CIFAR-10 Batch 2:  Loss: 0.42239484190940857\n",
      "Validation accuracy: 0.7297999858856201\n",
      "Epoch 30, CIFAR-10 Batch 3:  Loss: 0.35125404596328735\n",
      "Validation accuracy: 0.7372000217437744\n",
      "Epoch 30, CIFAR-10 Batch 4:  Loss: 0.4613877236843109\n",
      "Validation accuracy: 0.7268000245094299\n",
      "Epoch 30, CIFAR-10 Batch 5:  Loss: 0.3950698673725128\n",
      "Validation accuracy: 0.73580002784729\n"
     ]
    }
   ],
   "source": [
    "\"\"\"\n",
    "DON'T MODIFY ANYTHING IN THIS CELL\n",
    "\"\"\"\n",
    "save_model_path = './image_classification'\n",
    "\n",
    "print('Training...')\n",
    "with tf.Session() as sess:\n",
    "    # Initializing the variables\n",
    "    sess.run(tf.global_variables_initializer())\n",
    "    \n",
    "    # Training cycle\n",
    "    for epoch in range(epochs):\n",
    "        # Loop over all batches\n",
    "        n_batches = 5\n",
    "        for batch_i in range(1, n_batches + 1):\n",
    "            for batch_features, batch_labels in helper.load_preprocess_training_batch(batch_i, batch_size):\n",
    "                train_neural_network(sess, optimizer, keep_probability, batch_features, batch_labels)\n",
    "            print('Epoch {:>2}, CIFAR-10 Batch {}:  '.format(epoch + 1, batch_i), end='')\n",
    "            print_stats(sess, batch_features, batch_labels, cost, accuracy)\n",
    "            \n",
    "    # Save Model\n",
    "    saver = tf.train.Saver()\n",
    "    save_path = saver.save(sess, save_model_path)"
   ]
  },
  {
   "cell_type": "markdown",
   "metadata": {},
   "source": [
    "# Checkpoint\n",
    "The model has been saved to disk.\n",
    "## Test Model\n",
    "Test your model against the test dataset.  This will be your final accuracy. You should have an accuracy greater than 50%. If you don't, keep tweaking the model architecture and parameters."
   ]
  },
  {
   "cell_type": "code",
   "execution_count": 1,
   "metadata": {},
   "outputs": [
    {
     "name": "stdout",
     "output_type": "stream",
     "text": [
      "Testing Accuracy: 0.7286027070063694\n",
      "\n"
     ]
    },
    {
     "data": {
      "image/png": "[encoded data removed]",
      "text/plain": [
       "<matplotlib.figure.Figure at 0x7fb38d7fa668>"
      ]
     },
     "metadata": {
      "image/png": {
       "height": 319,
       "width": 355
      }
     },
     "output_type": "display_data"
    }
   ],
   "source": [
    "\"\"\"\n",
    "DON'T MODIFY ANYTHING IN THIS CELL\n",
    "\"\"\"\n",
    "%matplotlib inline\n",
    "%config InlineBackend.figure_format = 'retina'\n",
    "\n",
    "import tensorflow as tf\n",
    "import pickle\n",
    "import helper\n",
    "import random\n",
    "\n",
    "# Set batch size if not already set\n",
    "try:\n",
    "    if batch_size:\n",
    "        pass\n",
    "except NameError:\n",
    "    batch_size = 64\n",
    "\n",
    "save_model_path = './image_classification'\n",
    "n_samples = 4\n",
    "top_n_predictions = 3\n",
    "\n",
    "def test_model():\n",
    "    \"\"\"\n",
    "    Test the saved model against the test dataset\n",
    "    \"\"\"\n",
    "\n",
    "    test_features, test_labels = pickle.load(open('preprocess_test.p', mode='rb'))\n",
    "    loaded_graph = tf.Graph()\n",
    "\n",
    "    with tf.Session(graph=loaded_graph) as sess:\n",
    "        # Load model\n",
    "        loader = tf.train.import_meta_graph(save_model_path + '.meta')\n",
    "        loader.restore(sess, save_model_path)\n",
    "\n",
    "        # Get Tensors from loaded model\n",
    "        loaded_x = loaded_graph.get_tensor_by_name('x:0')\n",
    "        loaded_y = loaded_graph.get_tensor_by_name('y:0')\n",
    "        loaded_keep_prob = loaded_graph.get_tensor_by_name('keep_prob:0')\n",
    "        loaded_logits = loaded_graph.get_tensor_by_name('logits:0')\n",
    "        loaded_acc = loaded_graph.get_tensor_by_name('accuracy:0')\n",
    "        \n",
    "        # Get accuracy in batches for memory limitations\n",
    "        test_batch_acc_total = 0\n",
    "        test_batch_count = 0\n",
    "        \n",
    "        for test_feature_batch, test_label_batch in helper.batch_features_labels(test_features, test_labels, batch_size):\n",
    "            test_batch_acc_total += sess.run(\n",
    "                loaded_acc,\n",
    "                feed_dict={loaded_x: test_feature_batch, loaded_y: test_label_batch, loaded_keep_prob: 1.0})\n",
    "            test_batch_count += 1\n",
    "\n",
    "        print('Testing Accuracy: {}\\n'.format(test_batch_acc_total/test_batch_count))\n",
    "\n",
    "        # Print Random Samples\n",
    "        random_test_features, random_test_labels = tuple(zip(*random.sample(list(zip(test_features, test_labels)), n_samples)))\n",
    "        random_test_predictions = sess.run(\n",
    "            tf.nn.top_k(tf.nn.softmax(loaded_logits), top_n_predictions),\n",
    "            feed_dict={loaded_x: random_test_features, loaded_y: random_test_labels, loaded_keep_prob: 1.0})\n",
    "        helper.display_image_predictions(random_test_features, random_test_labels, random_test_predictions)\n",
    "\n",
    "\n",
    "test_model()"
   ]
  },
  {
   "cell_type": "markdown",
   "metadata": {},
   "source": [
    "## Why 50-80% Accuracy?\n",
    "You might be wondering why you can't get an accuracy any higher. First things first, 50% isn't bad for a simple CNN.  Pure guessing would get you 10% accuracy. However, you might notice people are getting scores [well above 80%](http://rodrigob.github.io/are_we_there_yet/build/classification_datasets_results.html#43494641522d3130).  That's because we haven't taught you all there is to know about neural networks. We still need to cover a few more techniques.\n",
    "## Submitting This Project\n",
    "When submitting this project, make sure to run all the cells before saving the notebook.  Save the notebook file as \"dlnd_image_classification.ipynb\" and save it as a HTML file under \"File\" -> \"Download as\".  Include the \"helper.py\" and \"problem_unittests.py\" files in your submission."
   ]
  }
 ],
 "metadata": {
  "kernelspec": {
   "display_name": "Python 3",
   "language": "python",
   "name": "python3"
  },
  "language_info": {
   "codemirror_mode": {
    "name": "ipython",
    "version": 3
   },
   "file_extension": ".py",
   "mimetype": "text/x-python",
   "name": "python",
   "nbconvert_exporter": "python",
   "pygments_lexer": "ipython3",
   "version": "3.5.3"
  }
 },
 "nbformat": 4,
 "nbformat_minor": 1
}
