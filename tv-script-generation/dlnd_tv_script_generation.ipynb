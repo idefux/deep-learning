{
 "cells": [
  {
   "cell_type": "markdown",
   "metadata": {},
   "source": [
    "# TV Script Generation\n",
    "In this project, you'll generate your own [Simpsons](https://en.wikipedia.org/wiki/The_Simpsons) TV scripts using RNNs.  You'll be using part of the [Simpsons dataset](https://www.kaggle.com/wcukierski/the-simpsons-by-the-data) of scripts from 27 seasons.  The Neural Network you'll build will generate a new TV script for a scene at [Moe's Tavern](https://simpsonswiki.com/wiki/Moe's_Tavern).\n",
    "## Get the Data\n",
    "The data is already provided for you.  You'll be using a subset of the original dataset.  It consists of only the scenes in Moe's Tavern.  This doesn't include other versions of the tavern, like \"Moe's Cavern\", \"Flaming Moe's\", \"Uncle Moe's Family Feed-Bag\", etc.."
   ]
  },
  {
   "cell_type": "code",
   "execution_count": 2,
   "metadata": {},
   "outputs": [],
   "source": [
    "\"\"\"\n",
    "DON'T MODIFY ANYTHING IN THIS CELL\n",
    "\"\"\"\n",
    "import helper\n",
    "\n",
    "data_dir = './data/simpsons/moes_tavern_lines.txt'\n",
    "text = helper.load_data(data_dir)\n",
    "# Ignore notice, since we don't use it for analysing the data\n",
    "text = text[81:]"
   ]
  },
  {
   "cell_type": "markdown",
   "metadata": {},
   "source": [
    "## Explore the Data\n",
    "Play around with `view_sentence_range` to view different parts of the data."
   ]
  },
  {
   "cell_type": "code",
   "execution_count": 3,
   "metadata": {},
   "outputs": [
    {
     "name": "stdout",
     "output_type": "stream",
     "text": [
      "Dataset Stats\n",
      "Roughly the number of unique words: 11492\n",
      "Number of scenes: 262\n",
      "Average number of sentences in each scene: 15.248091603053435\n",
      "Number of lines: 4257\n",
      "Average number of words in each line: 11.50434578341555\n",
      "\n",
      "The sentences 100 to 120:\n",
      "Barney_Gumble: Wow, it really works.\n",
      "HARV: (CHUCKLING) I'll be back.\n",
      "Homer_Simpson: Moe, I haven't seen the place this crowded since the government cracked down on you for accepting food stamps. Do you think my drink had something to do with it?\n",
      "Moe_Szyslak: Who can say? It's probably a combination of things.\n",
      "Patron_#1: (TO MOE) Another pitcher of those amazing \"Flaming Moe's\".\n",
      "Patron_#2: Boy, I hate this joint, but I love that drink.\n",
      "Collette: Barkeep, I couldn't help noticing your sign.\n",
      "Moe_Szyslak: The one that says, \"Bartenders Do It 'Til You Barf\"?\n",
      "Collette: No, above that store-bought drollery.\n",
      "Moe_Szyslak: Oh great! Why don't we fill out an application? (READING) I'll need your name, measurements and turn ons..\n",
      "Collette: You really expect me to tell you my measurements?\n",
      "Moe_Szyslak: You could, but I find this way is much more accurate... and fun.\n",
      "Collette: (DISGUSTED) what do you offer in the way of salary?\n",
      "Moe_Szyslak: Minimum wage and tips. (MEANINGFULLY) Of course there are fringe benefits.\n",
      "Collette: Such as?\n",
      "Moe_Szyslak: An unforgettable weekend at Club Moe.\n",
      "Collette: I prefer to take my vacations someplace hot.\n",
      "Moe_Szyslak: I like your moxie, kid. You're hired.\n",
      "Collette: You shan't regret this.\n",
      "Moe_Szyslak: Methinks I shan't.\n"
     ]
    }
   ],
   "source": [
    "view_sentence_range = (100, 120)\n",
    "\n",
    "\"\"\"\n",
    "DON'T MODIFY ANYTHING IN THIS CELL\n",
    "\"\"\"\n",
    "import numpy as np\n",
    "\n",
    "print('Dataset Stats')\n",
    "print('Roughly the number of unique words: {}'.format(len({word: None for word in text.split()})))\n",
    "scenes = text.split('\\n\\n')\n",
    "print('Number of scenes: {}'.format(len(scenes)))\n",
    "sentence_count_scene = [scene.count('\\n') for scene in scenes]\n",
    "print('Average number of sentences in each scene: {}'.format(np.average(sentence_count_scene)))\n",
    "\n",
    "sentences = [sentence for scene in scenes for sentence in scene.split('\\n')]\n",
    "print('Number of lines: {}'.format(len(sentences)))\n",
    "word_count_sentence = [len(sentence.split()) for sentence in sentences]\n",
    "print('Average number of words in each line: {}'.format(np.average(word_count_sentence)))\n",
    "\n",
    "print()\n",
    "print('The sentences {} to {}:'.format(*view_sentence_range))\n",
    "print('\\n'.join(text.split('\\n')[view_sentence_range[0]:view_sentence_range[1]]))"
   ]
  },
  {
   "cell_type": "markdown",
   "metadata": {},
   "source": [
    "## Implement Preprocessing Functions\n",
    "The first thing to do to any dataset is preprocessing.  Implement the following preprocessing functions below:\n",
    "- Lookup Table\n",
    "- Tokenize Punctuation\n",
    "\n",
    "### Lookup Table\n",
    "To create a word embedding, you first need to transform the words to ids.  In this function, create two dictionaries:\n",
    "- Dictionary to go from the words to an id, we'll call `vocab_to_int`\n",
    "- Dictionary to go from the id to word, we'll call `int_to_vocab`\n",
    "\n",
    "Return these dictionaries in the following tuple `(vocab_to_int, int_to_vocab)`"
   ]
  },
  {
   "cell_type": "code",
   "execution_count": 4,
   "metadata": {},
   "outputs": [
    {
     "name": "stdout",
     "output_type": "stream",
     "text": [
      "Tests Passed\n"
     ]
    }
   ],
   "source": [
    "import numpy as np\n",
    "import problem_unittests as tests\n",
    "\n",
    "def create_lookup_tables(text):\n",
    "    \"\"\"\n",
    "    Create lookup tables for vocabulary\n",
    "    :param text: The text of tv scripts split into words\n",
    "    :return: A tuple of dicts (vocab_to_int, int_to_vocab)\n",
    "    \"\"\"\n",
    "    # TODO: Implement Function\n",
    "    vocab_to_int = {}\n",
    "    i = 0\n",
    "    for word in text:\n",
    "        if word not in vocab_to_int.keys():\n",
    "            vocab_to_int[word] = i\n",
    "            i = i + 1\n",
    "    int_to_vocab = {i: word for word, i in vocab_to_int.items()}\n",
    "    return vocab_to_int, int_to_vocab\n",
    "\n",
    "\n",
    "\"\"\"\n",
    "DON'T MODIFY ANYTHING IN THIS CELL THAT IS BELOW THIS LINE\n",
    "\"\"\"\n",
    "tests.test_create_lookup_tables(create_lookup_tables)"
   ]
  },
  {
   "cell_type": "markdown",
   "metadata": {},
   "source": [
    "### Tokenize Punctuation\n",
    "We'll be splitting the script into a word array using spaces as delimiters.  However, punctuations like periods and exclamation marks make it hard for the neural network to distinguish between the word \"bye\" and \"bye!\".\n",
    "\n",
    "Implement the function `token_lookup` to return a dict that will be used to tokenize symbols like \"!\" into \"||Exclamation_Mark||\".  Create a dictionary for the following symbols where the symbol is the key and value is the token:\n",
    "- Period ( . )\n",
    "- Comma ( , )\n",
    "- Quotation Mark ( \" )\n",
    "- Semicolon ( ; )\n",
    "- Exclamation mark ( ! )\n",
    "- Question mark ( ? )\n",
    "- Left Parentheses ( ( )\n",
    "- Right Parentheses ( ) )\n",
    "- Dash ( -- )\n",
    "- Return ( \\n )\n",
    "\n",
    "This dictionary will be used to token the symbols and add the delimiter (space) around it.  This separates the symbols as it's own word, making it easier for the neural network to predict on the next word. Make sure you don't use a token that could be confused as a word. Instead of using the token \"dash\", try using something like \"||dash||\"."
   ]
  },
  {
   "cell_type": "code",
   "execution_count": 5,
   "metadata": {},
   "outputs": [
    {
     "name": "stdout",
     "output_type": "stream",
     "text": [
      "Tests Passed\n"
     ]
    }
   ],
   "source": [
    "def token_lookup():\n",
    "    \"\"\"\n",
    "    Generate a dict to turn punctuation into a token.\n",
    "    :return: Tokenize dictionary where the key is the punctuation and the value is the token\n",
    "    \"\"\"\n",
    "    # TODO: Implement Function\n",
    "    punct_to_token = {}\n",
    "    punct_to_token['.'] = '||Period||'\n",
    "    punct_to_token[','] = '||Comma||'\n",
    "    punct_to_token['\"'] = '||Quotation_Mark||'\n",
    "    punct_to_token[';'] = '||Semicolon||'\n",
    "    punct_to_token['!'] = '||Exclamation_Mark||'\n",
    "    punct_to_token['?'] = '||Question_Mark||'\n",
    "    punct_to_token['('] = '||Left_Parentheses||'\n",
    "    punct_to_token[')'] = '||Right_Prentheses||'\n",
    "    punct_to_token['--'] = '||Dash||'\n",
    "    punct_to_token['\\n'] = '||Return||'\n",
    "    return punct_to_token\n",
    "\n",
    "\"\"\"\n",
    "DON'T MODIFY ANYTHING IN THIS CELL THAT IS BELOW THIS LINE\n",
    "\"\"\"\n",
    "tests.test_tokenize(token_lookup)"
   ]
  },
  {
   "cell_type": "markdown",
   "metadata": {},
   "source": [
    "## Preprocess all the data and save it\n",
    "Running the code cell below will preprocess all the data and save it to file."
   ]
  },
  {
   "cell_type": "code",
   "execution_count": 6,
   "metadata": {},
   "outputs": [],
   "source": [
    "\"\"\"\n",
    "DON'T MODIFY ANYTHING IN THIS CELL\n",
    "\"\"\"\n",
    "# Preprocess Training, Validation, and Testing Data\n",
    "helper.preprocess_and_save_data(data_dir, token_lookup, create_lookup_tables)"
   ]
  },
  {
   "cell_type": "markdown",
   "metadata": {},
   "source": [
    "# Check Point\n",
    "This is your first checkpoint. If you ever decide to come back to this notebook or have to restart the notebook, you can start from here. The preprocessed data has been saved to disk."
   ]
  },
  {
   "cell_type": "code",
   "execution_count": 7,
   "metadata": {},
   "outputs": [],
   "source": [
    "\"\"\"\n",
    "DON'T MODIFY ANYTHING IN THIS CELL\n",
    "\"\"\"\n",
    "import helper\n",
    "import numpy as np\n",
    "import problem_unittests as tests\n",
    "\n",
    "int_text, vocab_to_int, int_to_vocab, token_dict = helper.load_preprocess()"
   ]
  },
  {
   "cell_type": "markdown",
   "metadata": {},
   "source": [
    "## Build the Neural Network\n",
    "You'll build the components necessary to build a RNN by implementing the following functions below:\n",
    "- get_inputs\n",
    "- get_init_cell\n",
    "- get_embed\n",
    "- build_rnn\n",
    "- build_nn\n",
    "- get_batches\n",
    "\n",
    "### Check the Version of TensorFlow and Access to GPU"
   ]
  },
  {
   "cell_type": "code",
   "execution_count": 8,
   "metadata": {},
   "outputs": [
    {
     "name": "stdout",
     "output_type": "stream",
     "text": [
      "TensorFlow Version: 1.0.1\n"
     ]
    },
    {
     "name": "stderr",
     "output_type": "stream",
     "text": [
      "/home/sfuchs/anaconda3/envs/tflearn/lib/python3.5/site-packages/ipykernel_launcher.py:14: UserWarning: No GPU found. Please use a GPU to train your neural network.\n",
      "  \n"
     ]
    }
   ],
   "source": [
    "\"\"\"\n",
    "DON'T MODIFY ANYTHING IN THIS CELL\n",
    "\"\"\"\n",
    "from distutils.version import LooseVersion\n",
    "import warnings\n",
    "import tensorflow as tf\n",
    "\n",
    "# Check TensorFlow Version\n",
    "assert LooseVersion(tf.__version__) >= LooseVersion('1.0'), 'Please use TensorFlow version 1.0 or newer'\n",
    "print('TensorFlow Version: {}'.format(tf.__version__))\n",
    "\n",
    "# Check for a GPU\n",
    "if not tf.test.gpu_device_name():\n",
    "    warnings.warn('No GPU found. Please use a GPU to train your neural network.')\n",
    "else:\n",
    "    print('Default GPU Device: {}'.format(tf.test.gpu_device_name()))"
   ]
  },
  {
   "cell_type": "markdown",
   "metadata": {},
   "source": [
    "### Input\n",
    "Implement the `get_inputs()` function to create TF Placeholders for the Neural Network.  It should create the following placeholders:\n",
    "- Input text placeholder named \"input\" using the [TF Placeholder](https://www.tensorflow.org/api_docs/python/tf/placeholder) `name` parameter.\n",
    "- Targets placeholder\n",
    "- Learning Rate placeholder\n",
    "\n",
    "Return the placeholders in the following tuple `(Input, Targets, LearningRate)`"
   ]
  },
  {
   "cell_type": "code",
   "execution_count": 9,
   "metadata": {},
   "outputs": [
    {
     "name": "stdout",
     "output_type": "stream",
     "text": [
      "Tests Passed\n"
     ]
    }
   ],
   "source": [
    "def get_inputs():\n",
    "    \"\"\"\n",
    "    Create TF Placeholders for input, targets, and learning rate.\n",
    "    :return: Tuple (input, targets, learning rate)\n",
    "    \"\"\"\n",
    "    # TODO: Implement Function\n",
    "    inputs = tf.placeholder(tf.int32, [None, None], \"input\")\n",
    "    targets = tf.placeholder(tf.int32, [None, None], \"targets\")\n",
    "    learning_rate = tf.placeholder(tf.float32, name=\"learning_rate\")\n",
    "    return inputs, targets, learning_rate\n",
    "\n",
    "\n",
    "\"\"\"\n",
    "DON'T MODIFY ANYTHING IN THIS CELL THAT IS BELOW THIS LINE\n",
    "\"\"\"\n",
    "tests.test_get_inputs(get_inputs)"
   ]
  },
  {
   "cell_type": "markdown",
   "metadata": {},
   "source": [
    "### Build RNN Cell and Initialize\n",
    "Stack one or more [`BasicLSTMCells`](https://www.tensorflow.org/api_docs/python/tf/contrib/rnn/BasicLSTMCell) in a [`MultiRNNCell`](https://www.tensorflow.org/api_docs/python/tf/contrib/rnn/MultiRNNCell).\n",
    "- The Rnn size should be set using `rnn_size`\n",
    "- Initalize Cell State using the MultiRNNCell's [`zero_state()`](https://www.tensorflow.org/api_docs/python/tf/contrib/rnn/MultiRNNCell#zero_state) function\n",
    "    - Apply the name \"initial_state\" to the initial state using [`tf.identity()`](https://www.tensorflow.org/api_docs/python/tf/identity)\n",
    "\n",
    "Return the cell and initial state in the following tuple `(Cell, InitialState)`"
   ]
  },
  {
   "cell_type": "code",
   "execution_count": 10,
   "metadata": {},
   "outputs": [
    {
     "name": "stdout",
     "output_type": "stream",
     "text": [
      "Tests Passed\n"
     ]
    }
   ],
   "source": [
    "def get_init_cell(batch_size, rnn_size):\n",
    "    \"\"\"\n",
    "    Create an RNN Cell and initialize it.\n",
    "    :param batch_size: Size of batches\n",
    "    :param rnn_size: Size of RNNs\n",
    "    :return: Tuple (cell, initialize state)\n",
    "    \"\"\"\n",
    "    # TODO: Implement Function\n",
    "    num_layers = 2\n",
    "    lstm = tf.contrib.rnn.BasicLSTMCell(rnn_size)\n",
    "    cell = tf.contrib.rnn.MultiRNNCell([lstm] * num_layers)\n",
    "    initial_state = cell.zero_state(batch_size, tf.float32)\n",
    "    initial_state = tf.identity(initial_state, \"initial_state\")\n",
    "    return cell, initial_state\n",
    "\n",
    "\n",
    "\"\"\"\n",
    "DON'T MODIFY ANYTHING IN THIS CELL THAT IS BELOW THIS LINE\n",
    "\"\"\"\n",
    "tests.test_get_init_cell(get_init_cell)"
   ]
  },
  {
   "cell_type": "markdown",
   "metadata": {},
   "source": [
    "### Word Embedding\n",
    "Apply embedding to `input_data` using TensorFlow.  Return the embedded sequence."
   ]
  },
  {
   "cell_type": "code",
   "execution_count": 11,
   "metadata": {},
   "outputs": [
    {
     "name": "stdout",
     "output_type": "stream",
     "text": [
      "Tests Passed\n"
     ]
    }
   ],
   "source": [
    "def get_embed(input_data, vocab_size, embed_dim):\n",
    "    \"\"\"\n",
    "    Create embedding for <input_data>.\n",
    "    :param input_data: TF placeholder for text input.\n",
    "    :param vocab_size: Number of words in vocabulary.\n",
    "    :param embed_dim: Number of embedding dimensions\n",
    "    :return: Embedded input.\n",
    "    \"\"\"\n",
    "    # TODO: Implement Function\n",
    "    embedding = tf.Variable(tf.random_uniform([vocab_size, embed_dim], -1, 1, name=\"embedding\"))\n",
    "    embed = tf.nn.embedding_lookup(embedding, input_data)\n",
    "    return embed\n",
    "\n",
    "\n",
    "\"\"\"\n",
    "DON'T MODIFY ANYTHING IN THIS CELL THAT IS BELOW THIS LINE\n",
    "\"\"\"\n",
    "tests.test_get_embed(get_embed)"
   ]
  },
  {
   "cell_type": "markdown",
   "metadata": {},
   "source": [
    "### Build RNN\n",
    "You created a RNN Cell in the `get_init_cell()` function.  Time to use the cell to create a RNN.\n",
    "- Build the RNN using the [`tf.nn.dynamic_rnn()`](https://www.tensorflow.org/api_docs/python/tf/nn/dynamic_rnn)\n",
    " - Apply the name \"final_state\" to the final state using [`tf.identity()`](https://www.tensorflow.org/api_docs/python/tf/identity)\n",
    "\n",
    "Return the outputs and final_state state in the following tuple `(Outputs, FinalState)` "
   ]
  },
  {
   "cell_type": "code",
   "execution_count": 12,
   "metadata": {},
   "outputs": [
    {
     "name": "stdout",
     "output_type": "stream",
     "text": [
      "Tests Passed\n"
     ]
    }
   ],
   "source": [
    "def build_rnn(cell, inputs):\n",
    "    \"\"\"\n",
    "    Create a RNN using a RNN Cell\n",
    "    :param cell: RNN Cell\n",
    "    :param inputs: Input text data\n",
    "    :return: Tuple (Outputs, Final State)\n",
    "    \"\"\"\n",
    "    # TODO: Implement Function\n",
    "    outputs, final_state = tf.nn.dynamic_rnn(cell, inputs, dtype=tf.float32)\n",
    "    final_state = tf.identity(final_state, \"final_state\")\n",
    "    return outputs, final_state\n",
    "\n",
    "\n",
    "\"\"\"\n",
    "DON'T MODIFY ANYTHING IN THIS CELL THAT IS BELOW THIS LINE\n",
    "\"\"\"\n",
    "tests.test_build_rnn(build_rnn)"
   ]
  },
  {
   "cell_type": "markdown",
   "metadata": {},
   "source": [
    "### Build the Neural Network\n",
    "Apply the functions you implemented above to:\n",
    "- Apply embedding to `input_data` using your `get_embed(input_data, vocab_size, embed_dim)` function.\n",
    "- Build RNN using `cell` and your `build_rnn(cell, inputs)` function.\n",
    "- Apply a fully connected layer with a linear activation and `vocab_size` as the number of outputs.\n",
    "\n",
    "Return the logits and final state in the following tuple (Logits, FinalState) "
   ]
  },
  {
   "cell_type": "code",
   "execution_count": 22,
   "metadata": {},
   "outputs": [
    {
     "name": "stdout",
     "output_type": "stream",
     "text": [
      "Tests Passed\n"
     ]
    }
   ],
   "source": [
    "def build_nn(cell, rnn_size, input_data, vocab_size, embed_dim):\n",
    "    \"\"\"\n",
    "    Build part of the neural network\n",
    "    :param cell: RNN cell\n",
    "    :param rnn_size: Size of rnns\n",
    "    :param input_data: Input data\n",
    "    :param vocab_size: Vocabulary size\n",
    "    :param embed_dim: Number of embedding dimensions\n",
    "    :return: Tuple (Logits, FinalState)\n",
    "    \"\"\"\n",
    "    # TODO: Implement Function\n",
    "    embed = get_embed(input_data, vocab_size, embed_dim)\n",
    "    outputs, final_state = build_rnn(cell, embed)\n",
    "    \n",
    "    # weights = tf.Variable(tf.truncated_normal([embed_dim, vocab_size], stddev=0.1))\n",
    "    # bias = tf.Variable(tf.zeros(vocab_size))    \n",
    "    # logits = tf.add(tf.matmul(outputs, weights) + bias)\n",
    "    \n",
    "    \n",
    "    # print(outputs.get_shape())\n",
    "    # print(outputs[:, -1].get_shape())\n",
    "    # print(input_data.get_shape())\n",
    "    predictions = tf.contrib.layers.fully_connected(outputs, vocab_size, activation_fn=None)\n",
    "    # print(predictions.get_shape().as_list())\n",
    "    return predictions, final_state\n",
    "\n",
    "\n",
    "\"\"\"\n",
    "DON'T MODIFY ANYTHING IN THIS CELL THAT IS BELOW THIS LINE\n",
    "\"\"\"\n",
    "tests.test_build_nn(build_nn)"
   ]
  },
  {
   "cell_type": "markdown",
   "metadata": {},
   "source": [
    "### Batches\n",
    "Implement `get_batches` to create batches of input and targets using `int_text`.  The batches should be a Numpy array with the shape `(number of batches, 2, batch size, sequence length)`. Each batch contains two elements:\n",
    "- The first element is a single batch of **input** with the shape `[batch size, sequence length]`\n",
    "- The second element is a single batch of **targets** with the shape `[batch size, sequence length]`\n",
    "\n",
    "If you can't fill the last batch with enough data, drop the last batch.\n",
    "\n",
    "For exmple, `get_batches([1, 2, 3, 4, 5, 6, 7, 8, 9, 10, 11, 12, 13, 14, 15, 16, 17, 18, 19, 20], 3, 2)` would return a Numpy array of the following:\n",
    "```\n",
    "[\n",
    "  # First Batch\n",
    "  [\n",
    "    # Batch of Input\n",
    "    [[ 1  2], [ 7  8], [13 14]]\n",
    "    # Batch of targets\n",
    "    [[ 2  3], [ 8  9], [14 15]]\n",
    "  ]\n",
    "\n",
    "  # Second Batch\n",
    "  [\n",
    "    # Batch of Input\n",
    "    [[ 3  4], [ 9 10], [15 16]]\n",
    "    # Batch of targets\n",
    "    [[ 4  5], [10 11], [16 17]]\n",
    "  ]\n",
    "\n",
    "  # Third Batch\n",
    "  [\n",
    "    # Batch of Input\n",
    "    [[ 5  6], [11 12], [17 18]]\n",
    "    # Batch of targets\n",
    "    [[ 6  7], [12 13], [18  1]]\n",
    "  ]\n",
    "]\n",
    "```\n",
    "\n",
    "Notice that the last target value in the last batch is the first input value of the first batch. In this case, `1`. This is a common technique used when creating sequence batches, although it is rather unintuitive."
   ]
  },
  {
   "cell_type": "code",
   "execution_count": 23,
   "metadata": {},
   "outputs": [
    {
     "name": "stdout",
     "output_type": "stream",
     "text": [
      "Tests Passed\n"
     ]
    }
   ],
   "source": [
    "def get_batches(int_text, batch_size, seq_length):\n",
    "    \"\"\"\n",
    "    Return batches of input and target\n",
    "    :param int_text: Text with the words replaced by their ids\n",
    "    :param batch_size: The size of batch\n",
    "    :param seq_length: The length of sequence\n",
    "    :return: Batches as a Numpy array\n",
    "    \"\"\"\n",
    "    # TODO: Implement Function\n",
    "    input_length = len(int_text)\n",
    "    batch_length = batch_size * seq_length\n",
    "    num_batches = input_length // batch_length\n",
    "    capped_length = num_batches * batch_length\n",
    "    \n",
    "    # print(\"Seq. Length: {}\".format(seq_length))\n",
    "    # print(\"Batch size: {}\".format(batch_size))\n",
    "    \n",
    "    def get_sequence(idx):\n",
    "        return int_text[idx:idx+seq_length]\n",
    "    \n",
    "    def get_batch(idx):\n",
    "        return [get_sequence(idx+i*num_batches*seq_length) for i in range(batch_size)]\n",
    "    \n",
    "    def build_batches():        \n",
    "        return [[get_batch(idx), \n",
    "                get_batch(idx+1)] for idx in range(0, num_batches*seq_length, seq_length)] \n",
    "    \n",
    "    batches = np.array(build_batches())\n",
    "    # print(np.shape(batches))\n",
    "    # print(batches)\n",
    "    # print(batches[0][0][0])\n",
    "    # print(batches[0][1][0])\n",
    "    \n",
    "    batches[-1][1][-1][-1] = batches[0][0][0][0]\n",
    "    \n",
    "    # print(batches[-1][-1][-1])\n",
    "    # print(batches[0][1][0])    \n",
    "\n",
    "    return batches\n",
    "\n",
    "\n",
    "\"\"\"\n",
    "DON'T MODIFY ANYTHING IN THIS CELL THAT IS BELOW THIS LINE\n",
    "\"\"\"\n",
    "tests.test_get_batches(get_batches)"
   ]
  },
  {
   "cell_type": "markdown",
   "metadata": {},
   "source": [
    "## Neural Network Training\n",
    "### Hyperparameters\n",
    "Tune the following parameters:\n",
    "\n",
    "- Set `num_epochs` to the number of epochs.\n",
    "- Set `batch_size` to the batch size.\n",
    "- Set `rnn_size` to the size of the RNNs.\n",
    "- Set `embed_dim` to the size of the embedding.\n",
    "- Set `seq_length` to the length of sequence.\n",
    "- Set `learning_rate` to the learning rate.\n",
    "- Set `show_every_n_batches` to the number of batches the neural network should print progress."
   ]
  },
  {
   "cell_type": "code",
   "execution_count": 33,
   "metadata": {
    "collapsed": true
   },
   "outputs": [],
   "source": [
    "# Number of Epochs\n",
    "num_epochs = 100\n",
    "# Batch Size\n",
    "batch_size = 100\n",
    "# RNN Size\n",
    "rnn_size = 256\n",
    "# Embedding Dimension Size\n",
    "embed_dim = 256\n",
    "# Sequence Length\n",
    "seq_length = 25\n",
    "# Learning Rate\n",
    "learning_rate = 0.01\n",
    "# Show stats for every n number of batches\n",
    "show_every_n_batches = 10\n",
    "\n",
    "\"\"\"\n",
    "DON'T MODIFY ANYTHING IN THIS CELL THAT IS BELOW THIS LINE\n",
    "\"\"\"\n",
    "save_dir = './save'"
   ]
  },
  {
   "cell_type": "markdown",
   "metadata": {},
   "source": [
    "### Build the Graph\n",
    "Build the graph using the neural network you implemented."
   ]
  },
  {
   "cell_type": "code",
   "execution_count": 34,
   "metadata": {},
   "outputs": [],
   "source": [
    "\"\"\"\n",
    "DON'T MODIFY ANYTHING IN THIS CELL\n",
    "\"\"\"\n",
    "from tensorflow.contrib import seq2seq\n",
    "\n",
    "train_graph = tf.Graph()\n",
    "with train_graph.as_default():\n",
    "    vocab_size = len(int_to_vocab)\n",
    "    input_text, targets, lr = get_inputs()\n",
    "    input_data_shape = tf.shape(input_text)\n",
    "    cell, initial_state = get_init_cell(input_data_shape[0], rnn_size)\n",
    "    logits, final_state = build_nn(cell, rnn_size, input_text, vocab_size, embed_dim)\n",
    "\n",
    "    # Probabilities for generating words\n",
    "    probs = tf.nn.softmax(logits, name='probs')\n",
    "\n",
    "    # Loss function\n",
    "    cost = seq2seq.sequence_loss(\n",
    "        logits,\n",
    "        targets,\n",
    "        tf.ones([input_data_shape[0], input_data_shape[1]]))\n",
    "\n",
    "    # Optimizer\n",
    "    optimizer = tf.train.AdamOptimizer(lr)\n",
    "\n",
    "    # Gradient Clipping\n",
    "    gradients = optimizer.compute_gradients(cost)\n",
    "    capped_gradients = [(tf.clip_by_value(grad, -1., 1.), var) for grad, var in gradients if grad is not None]\n",
    "    train_op = optimizer.apply_gradients(capped_gradients)"
   ]
  },
  {
   "cell_type": "markdown",
   "metadata": {},
   "source": [
    "## Train\n",
    "Train the neural network on the preprocessed data.  If you have a hard time getting a good loss, check the [forms](https://discussions.udacity.com/) to see if anyone is having the same problem."
   ]
  },
  {
   "cell_type": "code",
   "execution_count": 36,
   "metadata": {},
   "outputs": [
    {
     "name": "stdout",
     "output_type": "stream",
     "text": [
      "Epoch   0 Batch    0/27   train_loss = 8.822\n",
      "Epoch   0 Batch   10/27   train_loss = 6.942\n",
      "Epoch   0 Batch   20/27   train_loss = 6.750\n",
      "Epoch   1 Batch    3/27   train_loss = 6.271\n",
      "Epoch   1 Batch   13/27   train_loss = 6.426\n",
      "Epoch   1 Batch   23/27   train_loss = 6.140\n",
      "Epoch   2 Batch    6/27   train_loss = 6.286\n",
      "Epoch   2 Batch   16/27   train_loss = 6.133\n",
      "Epoch   2 Batch   26/27   train_loss = 6.164\n",
      "Epoch   3 Batch    9/27   train_loss = 5.864\n",
      "Epoch   3 Batch   19/27   train_loss = 5.972\n",
      "Epoch   4 Batch    2/27   train_loss = 5.873\n",
      "Epoch   4 Batch   12/27   train_loss = 5.694\n",
      "Epoch   4 Batch   22/27   train_loss = 5.623\n",
      "Epoch   5 Batch    5/27   train_loss = 5.594\n",
      "Epoch   5 Batch   15/27   train_loss = 5.446\n",
      "Epoch   5 Batch   25/27   train_loss = 5.446\n",
      "Epoch   6 Batch    8/27   train_loss = 5.442\n",
      "Epoch   6 Batch   18/27   train_loss = 5.408\n",
      "Epoch   7 Batch    1/27   train_loss = 5.359\n",
      "Epoch   7 Batch   11/27   train_loss = 5.168\n",
      "Epoch   7 Batch   21/27   train_loss = 5.278\n",
      "Epoch   8 Batch    4/27   train_loss = 5.030\n",
      "Epoch   8 Batch   14/27   train_loss = 4.858\n",
      "Epoch   8 Batch   24/27   train_loss = 5.007\n",
      "Epoch   9 Batch    7/27   train_loss = 4.706\n",
      "Epoch   9 Batch   17/27   train_loss = 4.623\n",
      "Epoch  10 Batch    0/27   train_loss = 4.628\n",
      "Epoch  10 Batch   10/27   train_loss = 4.547\n",
      "Epoch  10 Batch   20/27   train_loss = 4.429\n",
      "Epoch  11 Batch    3/27   train_loss = 4.546\n",
      "Epoch  11 Batch   13/27   train_loss = 4.602\n",
      "Epoch  11 Batch   23/27   train_loss = 4.355\n",
      "Epoch  12 Batch    6/27   train_loss = 4.323\n",
      "Epoch  12 Batch   16/27   train_loss = 4.190\n",
      "Epoch  12 Batch   26/27   train_loss = 4.219\n",
      "Epoch  13 Batch    9/27   train_loss = 4.063\n",
      "Epoch  13 Batch   19/27   train_loss = 4.024\n",
      "Epoch  14 Batch    2/27   train_loss = 3.955\n",
      "Epoch  14 Batch   12/27   train_loss = 3.852\n",
      "Epoch  14 Batch   22/27   train_loss = 3.783\n",
      "Epoch  15 Batch    5/27   train_loss = 3.762\n",
      "Epoch  15 Batch   15/27   train_loss = 3.686\n",
      "Epoch  15 Batch   25/27   train_loss = 3.610\n",
      "Epoch  16 Batch    8/27   train_loss = 3.519\n",
      "Epoch  16 Batch   18/27   train_loss = 3.563\n",
      "Epoch  17 Batch    1/27   train_loss = 3.487\n",
      "Epoch  17 Batch   11/27   train_loss = 3.436\n",
      "Epoch  17 Batch   21/27   train_loss = 3.569\n",
      "Epoch  18 Batch    4/27   train_loss = 3.323\n",
      "Epoch  18 Batch   14/27   train_loss = 3.248\n",
      "Epoch  18 Batch   24/27   train_loss = 3.312\n",
      "Epoch  19 Batch    7/27   train_loss = 3.120\n",
      "Epoch  19 Batch   17/27   train_loss = 3.099\n",
      "Epoch  20 Batch    0/27   train_loss = 2.996\n",
      "Epoch  20 Batch   10/27   train_loss = 2.917\n",
      "Epoch  20 Batch   20/27   train_loss = 2.859\n",
      "Epoch  21 Batch    3/27   train_loss = 2.989\n",
      "Epoch  21 Batch   13/27   train_loss = 2.794\n",
      "Epoch  21 Batch   23/27   train_loss = 2.948\n",
      "Epoch  22 Batch    6/27   train_loss = 2.701\n",
      "Epoch  22 Batch   16/27   train_loss = 2.680\n",
      "Epoch  22 Batch   26/27   train_loss = 2.763\n",
      "Epoch  23 Batch    9/27   train_loss = 2.590\n",
      "Epoch  23 Batch   19/27   train_loss = 2.532\n",
      "Epoch  24 Batch    2/27   train_loss = 2.587\n",
      "Epoch  24 Batch   12/27   train_loss = 2.415\n",
      "Epoch  24 Batch   22/27   train_loss = 2.506\n",
      "Epoch  25 Batch    5/27   train_loss = 2.471\n",
      "Epoch  25 Batch   15/27   train_loss = 2.253\n",
      "Epoch  25 Batch   25/27   train_loss = 2.309\n",
      "Epoch  26 Batch    8/27   train_loss = 2.207\n",
      "Epoch  26 Batch   18/27   train_loss = 2.151\n",
      "Epoch  27 Batch    1/27   train_loss = 2.208\n",
      "Epoch  27 Batch   11/27   train_loss = 2.114\n",
      "Epoch  27 Batch   21/27   train_loss = 2.220\n",
      "Epoch  28 Batch    4/27   train_loss = 2.094\n",
      "Epoch  28 Batch   14/27   train_loss = 1.964\n",
      "Epoch  28 Batch   24/27   train_loss = 2.017\n",
      "Epoch  29 Batch    7/27   train_loss = 1.928\n",
      "Epoch  29 Batch   17/27   train_loss = 1.828\n",
      "Epoch  30 Batch    0/27   train_loss = 1.730\n",
      "Epoch  30 Batch   10/27   train_loss = 1.796\n",
      "Epoch  30 Batch   20/27   train_loss = 1.624\n",
      "Epoch  31 Batch    3/27   train_loss = 1.857\n",
      "Epoch  31 Batch   13/27   train_loss = 1.627\n",
      "Epoch  31 Batch   23/27   train_loss = 1.796\n",
      "Epoch  32 Batch    6/27   train_loss = 1.707\n",
      "Epoch  32 Batch   16/27   train_loss = 1.619\n",
      "Epoch  32 Batch   26/27   train_loss = 1.605\n",
      "Epoch  33 Batch    9/27   train_loss = 1.643\n",
      "Epoch  33 Batch   19/27   train_loss = 1.493\n",
      "Epoch  34 Batch    2/27   train_loss = 1.563\n",
      "Epoch  34 Batch   12/27   train_loss = 1.507\n",
      "Epoch  34 Batch   22/27   train_loss = 1.483\n",
      "Epoch  35 Batch    5/27   train_loss = 1.475\n",
      "Epoch  35 Batch   15/27   train_loss = 1.412\n",
      "Epoch  35 Batch   25/27   train_loss = 1.325\n",
      "Epoch  36 Batch    8/27   train_loss = 1.291\n",
      "Epoch  36 Batch   18/27   train_loss = 1.344\n",
      "Epoch  37 Batch    1/27   train_loss = 1.280\n",
      "Epoch  37 Batch   11/27   train_loss = 1.262\n",
      "Epoch  37 Batch   21/27   train_loss = 1.318\n",
      "Epoch  38 Batch    4/27   train_loss = 1.255\n",
      "Epoch  38 Batch   14/27   train_loss = 1.226\n",
      "Epoch  38 Batch   24/27   train_loss = 1.181\n",
      "Epoch  39 Batch    7/27   train_loss = 1.103\n",
      "Epoch  39 Batch   17/27   train_loss = 1.152\n",
      "Epoch  40 Batch    0/27   train_loss = 1.001\n",
      "Epoch  40 Batch   10/27   train_loss = 1.043\n",
      "Epoch  40 Batch   20/27   train_loss = 0.998\n",
      "Epoch  41 Batch    3/27   train_loss = 1.005\n",
      "Epoch  41 Batch   13/27   train_loss = 0.941\n",
      "Epoch  41 Batch   23/27   train_loss = 1.100\n",
      "Epoch  42 Batch    6/27   train_loss = 0.984\n",
      "Epoch  42 Batch   16/27   train_loss = 0.970\n",
      "Epoch  42 Batch   26/27   train_loss = 1.012\n",
      "Epoch  43 Batch    9/27   train_loss = 0.937\n",
      "Epoch  43 Batch   19/27   train_loss = 0.897\n",
      "Epoch  44 Batch    2/27   train_loss = 0.975\n",
      "Epoch  44 Batch   12/27   train_loss = 0.883\n",
      "Epoch  44 Batch   22/27   train_loss = 0.923\n",
      "Epoch  45 Batch    5/27   train_loss = 0.910\n",
      "Epoch  45 Batch   15/27   train_loss = 0.839\n",
      "Epoch  45 Batch   25/27   train_loss = 0.820\n",
      "Epoch  46 Batch    8/27   train_loss = 0.757\n",
      "Epoch  46 Batch   18/27   train_loss = 0.810\n",
      "Epoch  47 Batch    1/27   train_loss = 0.802\n",
      "Epoch  47 Batch   11/27   train_loss = 0.722\n",
      "Epoch  47 Batch   21/27   train_loss = 0.754\n",
      "Epoch  48 Batch    4/27   train_loss = 0.758\n",
      "Epoch  48 Batch   14/27   train_loss = 0.690\n",
      "Epoch  48 Batch   24/27   train_loss = 0.700\n",
      "Epoch  49 Batch    7/27   train_loss = 0.641\n",
      "Epoch  49 Batch   17/27   train_loss = 0.670\n",
      "Epoch  50 Batch    0/27   train_loss = 0.572\n",
      "Epoch  50 Batch   10/27   train_loss = 0.574\n",
      "Epoch  50 Batch   20/27   train_loss = 0.552\n",
      "Epoch  51 Batch    3/27   train_loss = 0.583\n",
      "Epoch  51 Batch   13/27   train_loss = 0.477\n",
      "Epoch  51 Batch   23/27   train_loss = 0.579\n",
      "Epoch  52 Batch    6/27   train_loss = 0.547\n",
      "Epoch  52 Batch   16/27   train_loss = 0.481\n",
      "Epoch  52 Batch   26/27   train_loss = 0.509\n",
      "Epoch  53 Batch    9/27   train_loss = 0.481\n",
      "Epoch  53 Batch   19/27   train_loss = 0.437\n",
      "Epoch  54 Batch    2/27   train_loss = 0.490\n",
      "Epoch  54 Batch   12/27   train_loss = 0.414\n",
      "Epoch  54 Batch   22/27   train_loss = 0.463\n",
      "Epoch  55 Batch    5/27   train_loss = 0.450\n",
      "Epoch  55 Batch   15/27   train_loss = 0.403\n",
      "Epoch  55 Batch   25/27   train_loss = 0.409\n",
      "Epoch  56 Batch    8/27   train_loss = 0.358\n",
      "Epoch  56 Batch   18/27   train_loss = 0.380\n",
      "Epoch  57 Batch    1/27   train_loss = 0.382\n",
      "Epoch  57 Batch   11/27   train_loss = 0.336\n",
      "Epoch  57 Batch   21/27   train_loss = 0.347\n",
      "Epoch  58 Batch    4/27   train_loss = 0.365\n",
      "Epoch  58 Batch   14/27   train_loss = 0.320\n",
      "Epoch  58 Batch   24/27   train_loss = 0.347\n",
      "Epoch  59 Batch    7/27   train_loss = 0.288\n",
      "Epoch  59 Batch   17/27   train_loss = 0.298\n",
      "Epoch  60 Batch    0/27   train_loss = 0.291\n",
      "Epoch  60 Batch   10/27   train_loss = 0.270\n",
      "Epoch  60 Batch   20/27   train_loss = 0.264\n",
      "Epoch  61 Batch    3/27   train_loss = 0.286\n",
      "Epoch  61 Batch   13/27   train_loss = 0.241\n",
      "Epoch  61 Batch   23/27   train_loss = 0.299\n",
      "Epoch  62 Batch    6/27   train_loss = 0.287\n",
      "Epoch  62 Batch   16/27   train_loss = 0.267\n",
      "Epoch  62 Batch   26/27   train_loss = 0.271\n",
      "Epoch  63 Batch    9/27   train_loss = 0.271\n",
      "Epoch  63 Batch   19/27   train_loss = 0.247\n",
      "Epoch  64 Batch    2/27   train_loss = 0.286\n",
      "Epoch  64 Batch   12/27   train_loss = 0.224\n",
      "Epoch  64 Batch   22/27   train_loss = 0.268\n",
      "Epoch  65 Batch    5/27   train_loss = 0.267\n",
      "Epoch  65 Batch   15/27   train_loss = 0.246\n",
      "Epoch  65 Batch   25/27   train_loss = 0.240\n",
      "Epoch  66 Batch    8/27   train_loss = 0.214\n",
      "Epoch  66 Batch   18/27   train_loss = 0.235\n",
      "Epoch  67 Batch    1/27   train_loss = 0.237\n",
      "Epoch  67 Batch   11/27   train_loss = 0.204\n"
     ]
    },
    {
     "name": "stdout",
     "output_type": "stream",
     "text": [
      "Epoch  67 Batch   21/27   train_loss = 0.223\n",
      "Epoch  68 Batch    4/27   train_loss = 0.239\n",
      "Epoch  68 Batch   14/27   train_loss = 0.205\n",
      "Epoch  68 Batch   24/27   train_loss = 0.230\n",
      "Epoch  69 Batch    7/27   train_loss = 0.189\n",
      "Epoch  69 Batch   17/27   train_loss = 0.195\n",
      "Epoch  70 Batch    0/27   train_loss = 0.194\n",
      "Epoch  70 Batch   10/27   train_loss = 0.187\n",
      "Epoch  70 Batch   20/27   train_loss = 0.175\n",
      "Epoch  71 Batch    3/27   train_loss = 0.192\n",
      "Epoch  71 Batch   13/27   train_loss = 0.164\n",
      "Epoch  71 Batch   23/27   train_loss = 0.200\n",
      "Epoch  72 Batch    6/27   train_loss = 0.197\n",
      "Epoch  72 Batch   16/27   train_loss = 0.174\n",
      "Epoch  72 Batch   26/27   train_loss = 0.193\n",
      "Epoch  73 Batch    9/27   train_loss = 0.193\n",
      "Epoch  73 Batch   19/27   train_loss = 0.164\n",
      "Epoch  74 Batch    2/27   train_loss = 0.201\n",
      "Epoch  74 Batch   12/27   train_loss = 0.163\n",
      "Epoch  74 Batch   22/27   train_loss = 0.181\n",
      "Epoch  75 Batch    5/27   train_loss = 0.170\n",
      "Epoch  75 Batch   15/27   train_loss = 0.161\n",
      "Epoch  75 Batch   25/27   train_loss = 0.169\n",
      "Epoch  76 Batch    8/27   train_loss = 0.147\n",
      "Epoch  76 Batch   18/27   train_loss = 0.164\n",
      "Epoch  77 Batch    1/27   train_loss = 0.167\n",
      "Epoch  77 Batch   11/27   train_loss = 0.141\n",
      "Epoch  77 Batch   21/27   train_loss = 0.158\n",
      "Epoch  78 Batch    4/27   train_loss = 0.172\n",
      "Epoch  78 Batch   14/27   train_loss = 0.150\n",
      "Epoch  78 Batch   24/27   train_loss = 0.166\n",
      "Epoch  79 Batch    7/27   train_loss = 0.142\n",
      "Epoch  79 Batch   17/27   train_loss = 0.155\n",
      "Epoch  80 Batch    0/27   train_loss = 0.149\n",
      "Epoch  80 Batch   10/27   train_loss = 0.141\n",
      "Epoch  80 Batch   20/27   train_loss = 0.134\n",
      "Epoch  81 Batch    3/27   train_loss = 0.146\n",
      "Epoch  81 Batch   13/27   train_loss = 0.126\n",
      "Epoch  81 Batch   23/27   train_loss = 0.158\n",
      "Epoch  82 Batch    6/27   train_loss = 0.147\n",
      "Epoch  82 Batch   16/27   train_loss = 0.137\n",
      "Epoch  82 Batch   26/27   train_loss = 0.150\n",
      "Epoch  83 Batch    9/27   train_loss = 0.150\n",
      "Epoch  83 Batch   19/27   train_loss = 0.134\n",
      "Epoch  84 Batch    2/27   train_loss = 0.160\n",
      "Epoch  84 Batch   12/27   train_loss = 0.131\n",
      "Epoch  84 Batch   22/27   train_loss = 0.145\n",
      "Epoch  85 Batch    5/27   train_loss = 0.137\n",
      "Epoch  85 Batch   15/27   train_loss = 0.127\n",
      "Epoch  85 Batch   25/27   train_loss = 0.131\n",
      "Epoch  86 Batch    8/27   train_loss = 0.125\n",
      "Epoch  86 Batch   18/27   train_loss = 0.135\n",
      "Epoch  87 Batch    1/27   train_loss = 0.134\n",
      "Epoch  87 Batch   11/27   train_loss = 0.109\n",
      "Epoch  87 Batch   21/27   train_loss = 0.133\n",
      "Epoch  88 Batch    4/27   train_loss = 0.140\n",
      "Epoch  88 Batch   14/27   train_loss = 0.123\n",
      "Epoch  88 Batch   24/27   train_loss = 0.142\n",
      "Epoch  89 Batch    7/27   train_loss = 0.116\n",
      "Epoch  89 Batch   17/27   train_loss = 0.126\n",
      "Epoch  90 Batch    0/27   train_loss = 0.131\n",
      "Epoch  90 Batch   10/27   train_loss = 0.122\n",
      "Epoch  90 Batch   20/27   train_loss = 0.113\n",
      "Epoch  91 Batch    3/27   train_loss = 0.124\n",
      "Epoch  91 Batch   13/27   train_loss = 0.113\n",
      "Epoch  91 Batch   23/27   train_loss = 0.137\n",
      "Epoch  92 Batch    6/27   train_loss = 0.127\n",
      "Epoch  92 Batch   16/27   train_loss = 0.121\n",
      "Epoch  92 Batch   26/27   train_loss = 0.134\n",
      "Epoch  93 Batch    9/27   train_loss = 0.130\n",
      "Epoch  93 Batch   19/27   train_loss = 0.121\n",
      "Epoch  94 Batch    2/27   train_loss = 0.142\n",
      "Epoch  94 Batch   12/27   train_loss = 0.116\n",
      "Epoch  94 Batch   22/27   train_loss = 0.131\n",
      "Epoch  95 Batch    5/27   train_loss = 0.125\n",
      "Epoch  95 Batch   15/27   train_loss = 0.116\n",
      "Epoch  95 Batch   25/27   train_loss = 0.117\n",
      "Epoch  96 Batch    8/27   train_loss = 0.118\n",
      "Epoch  96 Batch   18/27   train_loss = 0.125\n",
      "Epoch  97 Batch    1/27   train_loss = 0.126\n",
      "Epoch  97 Batch   11/27   train_loss = 0.103\n",
      "Epoch  97 Batch   21/27   train_loss = 0.126\n",
      "Epoch  98 Batch    4/27   train_loss = 0.133\n",
      "Epoch  98 Batch   14/27   train_loss = 0.117\n",
      "Epoch  98 Batch   24/27   train_loss = 0.136\n",
      "Epoch  99 Batch    7/27   train_loss = 0.111\n",
      "Epoch  99 Batch   17/27   train_loss = 0.121\n",
      "Model Trained and Saved\n"
     ]
    }
   ],
   "source": [
    "\"\"\"\n",
    "DON'T MODIFY ANYTHING IN THIS CELL\n",
    "\"\"\"\n",
    "batches = get_batches(int_text, batch_size, seq_length)\n",
    "\n",
    "with tf.Session(graph=train_graph) as sess:\n",
    "    sess.run(tf.global_variables_initializer())\n",
    "\n",
    "    for epoch_i in range(num_epochs):\n",
    "        state = sess.run(initial_state, {input_text: batches[0][0]})\n",
    "\n",
    "        for batch_i, (x, y) in enumerate(batches):\n",
    "            feed = {\n",
    "                input_text: x,\n",
    "                targets: y,\n",
    "                initial_state: state,\n",
    "                lr: learning_rate}\n",
    "            train_loss, state, _ = sess.run([cost, final_state, train_op], feed)\n",
    "\n",
    "            # Show every <show_every_n_batches> batches\n",
    "            if (epoch_i * len(batches) + batch_i) % show_every_n_batches == 0:\n",
    "                print('Epoch {:>3} Batch {:>4}/{}   train_loss = {:.3f}'.format(\n",
    "                    epoch_i,\n",
    "                    batch_i,\n",
    "                    len(batches),\n",
    "                    train_loss))\n",
    "\n",
    "    # Save Model\n",
    "    saver = tf.train.Saver()\n",
    "    saver.save(sess, save_dir)\n",
    "    print('Model Trained and Saved')"
   ]
  },
  {
   "cell_type": "markdown",
   "metadata": {},
   "source": [
    "## Save Parameters\n",
    "Save `seq_length` and `save_dir` for generating a new TV script."
   ]
  },
  {
   "cell_type": "code",
   "execution_count": 37,
   "metadata": {},
   "outputs": [],
   "source": [
    "\"\"\"\n",
    "DON'T MODIFY ANYTHING IN THIS CELL\n",
    "\"\"\"\n",
    "# Save parameters for checkpoint\n",
    "helper.save_params((seq_length, save_dir))"
   ]
  },
  {
   "cell_type": "markdown",
   "metadata": {},
   "source": [
    "# Checkpoint"
   ]
  },
  {
   "cell_type": "code",
   "execution_count": 38,
   "metadata": {},
   "outputs": [],
   "source": [
    "\"\"\"\n",
    "DON'T MODIFY ANYTHING IN THIS CELL\n",
    "\"\"\"\n",
    "import tensorflow as tf\n",
    "import numpy as np\n",
    "import helper\n",
    "import problem_unittests as tests\n",
    "\n",
    "_, vocab_to_int, int_to_vocab, token_dict = helper.load_preprocess()\n",
    "seq_length, load_dir = helper.load_params()"
   ]
  },
  {
   "cell_type": "markdown",
   "metadata": {},
   "source": [
    "## Implement Generate Functions\n",
    "### Get Tensors\n",
    "Get tensors from `loaded_graph` using the function [`get_tensor_by_name()`](https://www.tensorflow.org/api_docs/python/tf/Graph#get_tensor_by_name).  Get the tensors using the following names:\n",
    "- \"input:0\"\n",
    "- \"initial_state:0\"\n",
    "- \"final_state:0\"\n",
    "- \"probs:0\"\n",
    "\n",
    "Return the tensors in the following tuple `(InputTensor, InitialStateTensor, FinalStateTensor, ProbsTensor)` "
   ]
  },
  {
   "cell_type": "code",
   "execution_count": 39,
   "metadata": {},
   "outputs": [
    {
     "name": "stdout",
     "output_type": "stream",
     "text": [
      "Tests Passed\n"
     ]
    }
   ],
   "source": [
    "def get_tensors(loaded_graph):\n",
    "    \"\"\"\n",
    "    Get input, initial state, final state, and probabilities tensor from <loaded_graph>\n",
    "    :param loaded_graph: TensorFlow graph loaded from file\n",
    "    :return: Tuple (InputTensor, InitialStateTensor, FinalStateTensor, ProbsTensor)\n",
    "    \"\"\"\n",
    "    # TODO: Implement Function\n",
    "    InputTensor = loaded_graph.get_tensor_by_name(\"input:0\")\n",
    "    InitialStateTensor = loaded_graph.get_tensor_by_name(\"initial_state:0\")\n",
    "    FinalStateTensor = loaded_graph.get_tensor_by_name(\"final_state:0\")\n",
    "    ProbsTensor = loaded_graph.get_tensor_by_name(\"probs:0\")\n",
    "    return InputTensor, InitialStateTensor, FinalStateTensor, ProbsTensor\n",
    "\n",
    "\n",
    "\"\"\"\n",
    "DON'T MODIFY ANYTHING IN THIS CELL THAT IS BELOW THIS LINE\n",
    "\"\"\"\n",
    "tests.test_get_tensors(get_tensors)"
   ]
  },
  {
   "cell_type": "markdown",
   "metadata": {},
   "source": [
    "### Choose Word\n",
    "Implement the `pick_word()` function to select the next word using `probabilities`."
   ]
  },
  {
   "cell_type": "code",
   "execution_count": 40,
   "metadata": {},
   "outputs": [
    {
     "name": "stdout",
     "output_type": "stream",
     "text": [
      "Tests Passed\n"
     ]
    }
   ],
   "source": [
    "def pick_word(probabilities, int_to_vocab):\n",
    "    \"\"\"\n",
    "    Pick the next word in the generated text\n",
    "    :param probabilities: Probabilites of the next word\n",
    "    :param int_to_vocab: Dictionary of word ids as the keys and words as the values\n",
    "    :return: String of the predicted word\n",
    "    \"\"\"\n",
    "    # TODO: Implement Function\n",
    "    word_prob, word_int = max((prob, idx) for idx, prob in enumerate(probabilities))\n",
    "    # print(\"word: {}, probability: {}\".format(word_int, word_prob))\n",
    "    return int_to_vocab[word_int]\n",
    "\n",
    "\n",
    "\"\"\"\n",
    "DON'T MODIFY ANYTHING IN THIS CELL THAT IS BELOW THIS LINE\n",
    "\"\"\"\n",
    "tests.test_pick_word(pick_word)"
   ]
  },
  {
   "cell_type": "markdown",
   "metadata": {},
   "source": [
    "## Generate TV Script\n",
    "This will generate the TV script for you.  Set `gen_length` to the length of TV script you want to generate."
   ]
  },
  {
   "cell_type": "code",
   "execution_count": 45,
   "metadata": {},
   "outputs": [
    {
     "name": "stdout",
     "output_type": "stream",
     "text": [
      "barney_gumble: hey, frazier, shut up!\n",
      "smokin'_joe_frazier: barney, you've been riding my back all night.\n",
      "barney_gumble: oh yeah? care.\n",
      "homer_simpson: you know, i love that drink.\n",
      "lenny_leonard:(sincere) all right, let's go.\n",
      "moe_szyslak: this is the end of beer and gentlemen, you did.\n",
      "chief_wiggum:(sarcastic) oh, yeah, you did not your love in the way, buy a letter!\n",
      "carl_carlson: oh, who would you just see, like, who cares? we got any problem drive me to go at the script, barney.\n",
      "moe_szyslak: okay, i can get the time you been too book...\n",
      "homer_simpson:(re: tap) oh my god, marge. your buddy homer'll all get your money ever just talk about straight and vomit through,\" flaming\"\" flaming at it. eh, hey, are you?\n",
      "moe_szyslak: that's right, my kids are so much, though i made it we're home of me?\n",
      "chief_wiggum: a good time.(turns to\n"
     ]
    }
   ],
   "source": [
    "gen_length = 200\n",
    "# homer_simpson, moe_szyslak, or Barney_Gumble\n",
    "prime_word = 'barney_gumble'\n",
    "\n",
    "\"\"\"\n",
    "DON'T MODIFY ANYTHING IN THIS CELL THAT IS BELOW THIS LINE\n",
    "\"\"\"\n",
    "loaded_graph = tf.Graph()\n",
    "with tf.Session(graph=loaded_graph) as sess:\n",
    "    # Load saved model\n",
    "    loader = tf.train.import_meta_graph(load_dir + '.meta')\n",
    "    loader.restore(sess, load_dir)\n",
    "\n",
    "    # Get Tensors from loaded model\n",
    "    input_text, initial_state, final_state, probs = get_tensors(loaded_graph)\n",
    "\n",
    "    # Sentences generation setup\n",
    "    gen_sentences = [prime_word + ':']\n",
    "    prev_state = sess.run(initial_state, {input_text: np.array([[1]])})\n",
    "\n",
    "    # Generate sentences\n",
    "    for n in range(gen_length):\n",
    "        # Dynamic Input\n",
    "        dyn_input = [[vocab_to_int[word] for word in gen_sentences[-seq_length:]]]\n",
    "        dyn_seq_length = len(dyn_input[0])\n",
    "\n",
    "        # Get Prediction\n",
    "        probabilities, prev_state = sess.run(\n",
    "            [probs, final_state],\n",
    "            {input_text: dyn_input, initial_state: prev_state})\n",
    "        \n",
    "        pred_word = pick_word(probabilities[dyn_seq_length-1], int_to_vocab)\n",
    "\n",
    "        gen_sentences.append(pred_word)\n",
    "    \n",
    "    # Remove tokens\n",
    "    tv_script = ' '.join(gen_sentences)\n",
    "    for key, token in token_dict.items():\n",
    "        ending = ' ' if key in ['\\n', '(', '\"'] else ''\n",
    "        tv_script = tv_script.replace(' ' + token.lower(), key)\n",
    "    tv_script = tv_script.replace('\\n ', '\\n')\n",
    "    tv_script = tv_script.replace('( ', '(')\n",
    "        \n",
    "    print(tv_script)"
   ]
  },
  {
   "cell_type": "markdown",
   "metadata": {},
   "source": [
    "# The TV Script is Nonsensical\n",
    "It's ok if the TV script doesn't make any sense.  We trained on less than a megabyte of text.  In order to get good results, you'll have to use a smaller vocabulary or get more data.  Luckly there's more data!  As we mentioned in the begging of this project, this is a subset of [another dataset](https://www.kaggle.com/wcukierski/the-simpsons-by-the-data).  We didn't have you train on all the data, because that would take too long.  However, you are free to train your neural network on all the data.  After you complete the project, of course.\n",
    "# Submitting This Project\n",
    "When submitting this project, make sure to run all the cells before saving the notebook. Save the notebook file as \"dlnd_tv_script_generation.ipynb\" and save it as a HTML file under \"File\" -> \"Download as\". Include the \"helper.py\" and \"problem_unittests.py\" files in your submission."
   ]
  }
 ],
 "metadata": {
  "kernelspec": {
   "display_name": "Python 3",
   "language": "python",
   "name": "python3"
  },
  "language_info": {
   "codemirror_mode": {
    "name": "ipython",
    "version": 3
   },
   "file_extension": ".py",
   "mimetype": "text/x-python",
   "name": "python",
   "nbconvert_exporter": "python",
   "pygments_lexer": "ipython3",
   "version": "3.5.3"
  },
  "widgets": {
   "state": {},
   "version": "1.1.2"
  }
 },
 "nbformat": 4,
 "nbformat_minor": 1
}
